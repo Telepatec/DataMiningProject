{
 "cells": [
  {
   "cell_type": "markdown",
   "metadata": {},
   "source": [
    "## DATA MINING PROJECT\n",
    "# ABCDEats Inc\\. Final Report\n",
    "\n",
    "**Group 20** <br>\n",
    "Afonso Gamito, 20240752 <br>\n",
    "Gonçalo Pacheco, 20240695 <br>\n",
    "Hassan Bhatti, 20241023 <br>\n",
    "Moeko Mitani, 20240670"
   ]
  },
  {
   "cell_type": "markdown",
   "metadata": {},
   "source": [
    "# Import the Libraries and CVS file"
   ]
  },
  {
   "cell_type": "code",
   "execution_count": 5,
   "metadata": {},
   "outputs": [],
   "source": [
    "import pandas as pd\n",
    "import sqlite3\n",
    "import os\n",
    "import numpy as np\n",
    "import matplotlib.pyplot as plt\n",
    "import seaborn as sns\n",
    "import matplotlib.patches as mpatches\n",
    "from math import ceil\n",
    "\n",
    "from itertools import product"
   ]
  },
  {
   "cell_type": "code",
   "execution_count": 6,
   "metadata": {},
   "outputs": [],
   "source": [
    "file_path = 'project_data/DM2425_ABCDEats_DATASET.csv'  # Ensure 'myfile.csv' is in the project folder\n",
    "df = pd.read_csv(file_path)"
   ]
  },
  {
   "cell_type": "markdown",
   "metadata": {},
   "source": [
    "# 1. Check the DataFrame"
   ]
  },
  {
   "cell_type": "code",
   "execution_count": 8,
   "metadata": {},
   "outputs": [],
   "source": [
    "pd.set_option('display.max_rows', None)\n",
    "pd.set_option('display.max_columns', None)"
   ]
  },
  {
   "cell_type": "code",
   "execution_count": 9,
   "metadata": {},
   "outputs": [
    {
     "data": {
      "text/html": [
       "<div>\n",
       "<style scoped>\n",
       "    .dataframe tbody tr th:only-of-type {\n",
       "        vertical-align: middle;\n",
       "    }\n",
       "\n",
       "    .dataframe tbody tr th {\n",
       "        vertical-align: top;\n",
       "    }\n",
       "\n",
       "    .dataframe thead th {\n",
       "        text-align: right;\n",
       "    }\n",
       "</style>\n",
       "<table border=\"1\" class=\"dataframe\">\n",
       "  <thead>\n",
       "    <tr style=\"text-align: right;\">\n",
       "      <th></th>\n",
       "      <th>customer_id</th>\n",
       "      <th>customer_region</th>\n",
       "      <th>customer_age</th>\n",
       "      <th>vendor_count</th>\n",
       "      <th>product_count</th>\n",
       "      <th>is_chain</th>\n",
       "      <th>first_order</th>\n",
       "      <th>last_order</th>\n",
       "      <th>last_promo</th>\n",
       "      <th>payment_method</th>\n",
       "      <th>CUI_American</th>\n",
       "      <th>CUI_Asian</th>\n",
       "      <th>CUI_Beverages</th>\n",
       "      <th>CUI_Cafe</th>\n",
       "      <th>CUI_Chicken Dishes</th>\n",
       "      <th>CUI_Chinese</th>\n",
       "      <th>CUI_Desserts</th>\n",
       "      <th>CUI_Healthy</th>\n",
       "      <th>CUI_Indian</th>\n",
       "      <th>CUI_Italian</th>\n",
       "      <th>CUI_Japanese</th>\n",
       "      <th>CUI_Noodle Dishes</th>\n",
       "      <th>CUI_OTHER</th>\n",
       "      <th>CUI_Street Food / Snacks</th>\n",
       "      <th>CUI_Thai</th>\n",
       "      <th>DOW_0</th>\n",
       "      <th>DOW_1</th>\n",
       "      <th>DOW_2</th>\n",
       "      <th>DOW_3</th>\n",
       "      <th>DOW_4</th>\n",
       "      <th>DOW_5</th>\n",
       "      <th>DOW_6</th>\n",
       "      <th>HR_0</th>\n",
       "      <th>HR_1</th>\n",
       "      <th>HR_2</th>\n",
       "      <th>HR_3</th>\n",
       "      <th>HR_4</th>\n",
       "      <th>HR_5</th>\n",
       "      <th>HR_6</th>\n",
       "      <th>HR_7</th>\n",
       "      <th>HR_8</th>\n",
       "      <th>HR_9</th>\n",
       "      <th>HR_10</th>\n",
       "      <th>HR_11</th>\n",
       "      <th>HR_12</th>\n",
       "      <th>HR_13</th>\n",
       "      <th>HR_14</th>\n",
       "      <th>HR_15</th>\n",
       "      <th>HR_16</th>\n",
       "      <th>HR_17</th>\n",
       "      <th>HR_18</th>\n",
       "      <th>HR_19</th>\n",
       "      <th>HR_20</th>\n",
       "      <th>HR_21</th>\n",
       "      <th>HR_22</th>\n",
       "      <th>HR_23</th>\n",
       "    </tr>\n",
       "  </thead>\n",
       "  <tbody>\n",
       "    <tr>\n",
       "      <th>0</th>\n",
       "      <td>1b8f824d5e</td>\n",
       "      <td>2360</td>\n",
       "      <td>18.0</td>\n",
       "      <td>2</td>\n",
       "      <td>5</td>\n",
       "      <td>1</td>\n",
       "      <td>0.0</td>\n",
       "      <td>1</td>\n",
       "      <td>DELIVERY</td>\n",
       "      <td>DIGI</td>\n",
       "      <td>0.00</td>\n",
       "      <td>0.00</td>\n",
       "      <td>0.0</td>\n",
       "      <td>0.0</td>\n",
       "      <td>0.0</td>\n",
       "      <td>0.0</td>\n",
       "      <td>0.0</td>\n",
       "      <td>0.0</td>\n",
       "      <td>28.88</td>\n",
       "      <td>0.0</td>\n",
       "      <td>0.0</td>\n",
       "      <td>0.0</td>\n",
       "      <td>0.0</td>\n",
       "      <td>0.0</td>\n",
       "      <td>0.0</td>\n",
       "      <td>1</td>\n",
       "      <td>0</td>\n",
       "      <td>0</td>\n",
       "      <td>0</td>\n",
       "      <td>0</td>\n",
       "      <td>0</td>\n",
       "      <td>1</td>\n",
       "      <td>0.0</td>\n",
       "      <td>0</td>\n",
       "      <td>0</td>\n",
       "      <td>0</td>\n",
       "      <td>0</td>\n",
       "      <td>0</td>\n",
       "      <td>0</td>\n",
       "      <td>0</td>\n",
       "      <td>0</td>\n",
       "      <td>0</td>\n",
       "      <td>0</td>\n",
       "      <td>0</td>\n",
       "      <td>0</td>\n",
       "      <td>0</td>\n",
       "      <td>0</td>\n",
       "      <td>0</td>\n",
       "      <td>0</td>\n",
       "      <td>0</td>\n",
       "      <td>2</td>\n",
       "      <td>0</td>\n",
       "      <td>0</td>\n",
       "      <td>0</td>\n",
       "      <td>0</td>\n",
       "      <td>0</td>\n",
       "    </tr>\n",
       "    <tr>\n",
       "      <th>1</th>\n",
       "      <td>5d272b9dcb</td>\n",
       "      <td>8670</td>\n",
       "      <td>17.0</td>\n",
       "      <td>2</td>\n",
       "      <td>2</td>\n",
       "      <td>2</td>\n",
       "      <td>0.0</td>\n",
       "      <td>1</td>\n",
       "      <td>DISCOUNT</td>\n",
       "      <td>DIGI</td>\n",
       "      <td>12.82</td>\n",
       "      <td>6.39</td>\n",
       "      <td>0.0</td>\n",
       "      <td>0.0</td>\n",
       "      <td>0.0</td>\n",
       "      <td>0.0</td>\n",
       "      <td>0.0</td>\n",
       "      <td>0.0</td>\n",
       "      <td>0.00</td>\n",
       "      <td>0.0</td>\n",
       "      <td>0.0</td>\n",
       "      <td>0.0</td>\n",
       "      <td>0.0</td>\n",
       "      <td>0.0</td>\n",
       "      <td>0.0</td>\n",
       "      <td>1</td>\n",
       "      <td>0</td>\n",
       "      <td>0</td>\n",
       "      <td>0</td>\n",
       "      <td>0</td>\n",
       "      <td>0</td>\n",
       "      <td>1</td>\n",
       "      <td>0.0</td>\n",
       "      <td>0</td>\n",
       "      <td>0</td>\n",
       "      <td>0</td>\n",
       "      <td>0</td>\n",
       "      <td>0</td>\n",
       "      <td>0</td>\n",
       "      <td>0</td>\n",
       "      <td>0</td>\n",
       "      <td>0</td>\n",
       "      <td>1</td>\n",
       "      <td>1</td>\n",
       "      <td>0</td>\n",
       "      <td>0</td>\n",
       "      <td>0</td>\n",
       "      <td>0</td>\n",
       "      <td>0</td>\n",
       "      <td>0</td>\n",
       "      <td>0</td>\n",
       "      <td>0</td>\n",
       "      <td>0</td>\n",
       "      <td>0</td>\n",
       "      <td>0</td>\n",
       "      <td>0</td>\n",
       "    </tr>\n",
       "    <tr>\n",
       "      <th>2</th>\n",
       "      <td>f6d1b2ba63</td>\n",
       "      <td>4660</td>\n",
       "      <td>38.0</td>\n",
       "      <td>1</td>\n",
       "      <td>2</td>\n",
       "      <td>2</td>\n",
       "      <td>0.0</td>\n",
       "      <td>1</td>\n",
       "      <td>DISCOUNT</td>\n",
       "      <td>CASH</td>\n",
       "      <td>9.20</td>\n",
       "      <td>0.00</td>\n",
       "      <td>0.0</td>\n",
       "      <td>0.0</td>\n",
       "      <td>0.0</td>\n",
       "      <td>0.0</td>\n",
       "      <td>0.0</td>\n",
       "      <td>0.0</td>\n",
       "      <td>0.00</td>\n",
       "      <td>0.0</td>\n",
       "      <td>0.0</td>\n",
       "      <td>0.0</td>\n",
       "      <td>0.0</td>\n",
       "      <td>0.0</td>\n",
       "      <td>0.0</td>\n",
       "      <td>1</td>\n",
       "      <td>0</td>\n",
       "      <td>0</td>\n",
       "      <td>0</td>\n",
       "      <td>0</td>\n",
       "      <td>0</td>\n",
       "      <td>1</td>\n",
       "      <td>0.0</td>\n",
       "      <td>0</td>\n",
       "      <td>0</td>\n",
       "      <td>0</td>\n",
       "      <td>0</td>\n",
       "      <td>0</td>\n",
       "      <td>0</td>\n",
       "      <td>0</td>\n",
       "      <td>0</td>\n",
       "      <td>1</td>\n",
       "      <td>0</td>\n",
       "      <td>1</td>\n",
       "      <td>0</td>\n",
       "      <td>0</td>\n",
       "      <td>0</td>\n",
       "      <td>0</td>\n",
       "      <td>0</td>\n",
       "      <td>0</td>\n",
       "      <td>0</td>\n",
       "      <td>0</td>\n",
       "      <td>0</td>\n",
       "      <td>0</td>\n",
       "      <td>0</td>\n",
       "      <td>0</td>\n",
       "    </tr>\n",
       "    <tr>\n",
       "      <th>3</th>\n",
       "      <td>180c632ed8</td>\n",
       "      <td>4660</td>\n",
       "      <td>NaN</td>\n",
       "      <td>2</td>\n",
       "      <td>3</td>\n",
       "      <td>1</td>\n",
       "      <td>0.0</td>\n",
       "      <td>2</td>\n",
       "      <td>DELIVERY</td>\n",
       "      <td>DIGI</td>\n",
       "      <td>0.00</td>\n",
       "      <td>13.70</td>\n",
       "      <td>0.0</td>\n",
       "      <td>0.0</td>\n",
       "      <td>0.0</td>\n",
       "      <td>0.0</td>\n",
       "      <td>0.0</td>\n",
       "      <td>0.0</td>\n",
       "      <td>17.86</td>\n",
       "      <td>0.0</td>\n",
       "      <td>0.0</td>\n",
       "      <td>0.0</td>\n",
       "      <td>0.0</td>\n",
       "      <td>0.0</td>\n",
       "      <td>0.0</td>\n",
       "      <td>0</td>\n",
       "      <td>1</td>\n",
       "      <td>0</td>\n",
       "      <td>0</td>\n",
       "      <td>0</td>\n",
       "      <td>0</td>\n",
       "      <td>1</td>\n",
       "      <td>0.0</td>\n",
       "      <td>0</td>\n",
       "      <td>0</td>\n",
       "      <td>0</td>\n",
       "      <td>0</td>\n",
       "      <td>0</td>\n",
       "      <td>0</td>\n",
       "      <td>0</td>\n",
       "      <td>0</td>\n",
       "      <td>0</td>\n",
       "      <td>0</td>\n",
       "      <td>1</td>\n",
       "      <td>0</td>\n",
       "      <td>0</td>\n",
       "      <td>1</td>\n",
       "      <td>0</td>\n",
       "      <td>0</td>\n",
       "      <td>0</td>\n",
       "      <td>0</td>\n",
       "      <td>0</td>\n",
       "      <td>0</td>\n",
       "      <td>0</td>\n",
       "      <td>0</td>\n",
       "      <td>0</td>\n",
       "    </tr>\n",
       "    <tr>\n",
       "      <th>4</th>\n",
       "      <td>4eb37a6705</td>\n",
       "      <td>4660</td>\n",
       "      <td>20.0</td>\n",
       "      <td>2</td>\n",
       "      <td>5</td>\n",
       "      <td>0</td>\n",
       "      <td>0.0</td>\n",
       "      <td>2</td>\n",
       "      <td>-</td>\n",
       "      <td>DIGI</td>\n",
       "      <td>14.57</td>\n",
       "      <td>40.87</td>\n",
       "      <td>0.0</td>\n",
       "      <td>0.0</td>\n",
       "      <td>0.0</td>\n",
       "      <td>0.0</td>\n",
       "      <td>0.0</td>\n",
       "      <td>0.0</td>\n",
       "      <td>0.00</td>\n",
       "      <td>0.0</td>\n",
       "      <td>0.0</td>\n",
       "      <td>0.0</td>\n",
       "      <td>0.0</td>\n",
       "      <td>0.0</td>\n",
       "      <td>0.0</td>\n",
       "      <td>0</td>\n",
       "      <td>1</td>\n",
       "      <td>0</td>\n",
       "      <td>0</td>\n",
       "      <td>0</td>\n",
       "      <td>0</td>\n",
       "      <td>1</td>\n",
       "      <td>0.0</td>\n",
       "      <td>0</td>\n",
       "      <td>0</td>\n",
       "      <td>0</td>\n",
       "      <td>0</td>\n",
       "      <td>0</td>\n",
       "      <td>0</td>\n",
       "      <td>0</td>\n",
       "      <td>1</td>\n",
       "      <td>1</td>\n",
       "      <td>0</td>\n",
       "      <td>0</td>\n",
       "      <td>0</td>\n",
       "      <td>0</td>\n",
       "      <td>0</td>\n",
       "      <td>0</td>\n",
       "      <td>0</td>\n",
       "      <td>0</td>\n",
       "      <td>0</td>\n",
       "      <td>0</td>\n",
       "      <td>0</td>\n",
       "      <td>0</td>\n",
       "      <td>0</td>\n",
       "      <td>0</td>\n",
       "    </tr>\n",
       "  </tbody>\n",
       "</table>\n",
       "</div>"
      ],
      "text/plain": [
       "  customer_id customer_region  customer_age  vendor_count  product_count  \\\n",
       "0  1b8f824d5e            2360          18.0             2              5   \n",
       "1  5d272b9dcb            8670          17.0             2              2   \n",
       "2  f6d1b2ba63            4660          38.0             1              2   \n",
       "3  180c632ed8            4660           NaN             2              3   \n",
       "4  4eb37a6705            4660          20.0             2              5   \n",
       "\n",
       "   is_chain  first_order  last_order last_promo payment_method  CUI_American  \\\n",
       "0         1          0.0           1   DELIVERY           DIGI          0.00   \n",
       "1         2          0.0           1   DISCOUNT           DIGI         12.82   \n",
       "2         2          0.0           1   DISCOUNT           CASH          9.20   \n",
       "3         1          0.0           2   DELIVERY           DIGI          0.00   \n",
       "4         0          0.0           2          -           DIGI         14.57   \n",
       "\n",
       "   CUI_Asian  CUI_Beverages  CUI_Cafe  CUI_Chicken Dishes  CUI_Chinese  \\\n",
       "0       0.00            0.0       0.0                 0.0          0.0   \n",
       "1       6.39            0.0       0.0                 0.0          0.0   \n",
       "2       0.00            0.0       0.0                 0.0          0.0   \n",
       "3      13.70            0.0       0.0                 0.0          0.0   \n",
       "4      40.87            0.0       0.0                 0.0          0.0   \n",
       "\n",
       "   CUI_Desserts  CUI_Healthy  CUI_Indian  CUI_Italian  CUI_Japanese  \\\n",
       "0           0.0          0.0       28.88          0.0           0.0   \n",
       "1           0.0          0.0        0.00          0.0           0.0   \n",
       "2           0.0          0.0        0.00          0.0           0.0   \n",
       "3           0.0          0.0       17.86          0.0           0.0   \n",
       "4           0.0          0.0        0.00          0.0           0.0   \n",
       "\n",
       "   CUI_Noodle Dishes  CUI_OTHER  CUI_Street Food / Snacks  CUI_Thai  DOW_0  \\\n",
       "0                0.0        0.0                       0.0       0.0      1   \n",
       "1                0.0        0.0                       0.0       0.0      1   \n",
       "2                0.0        0.0                       0.0       0.0      1   \n",
       "3                0.0        0.0                       0.0       0.0      0   \n",
       "4                0.0        0.0                       0.0       0.0      0   \n",
       "\n",
       "   DOW_1  DOW_2  DOW_3  DOW_4  DOW_5  DOW_6  HR_0  HR_1  HR_2  HR_3  HR_4  \\\n",
       "0      0      0      0      0      0      1   0.0     0     0     0     0   \n",
       "1      0      0      0      0      0      1   0.0     0     0     0     0   \n",
       "2      0      0      0      0      0      1   0.0     0     0     0     0   \n",
       "3      1      0      0      0      0      1   0.0     0     0     0     0   \n",
       "4      1      0      0      0      0      1   0.0     0     0     0     0   \n",
       "\n",
       "   HR_5  HR_6  HR_7  HR_8  HR_9  HR_10  HR_11  HR_12  HR_13  HR_14  HR_15  \\\n",
       "0     0     0     0     0     0      0      0      0      0      0      0   \n",
       "1     0     0     0     0     0      1      1      0      0      0      0   \n",
       "2     0     0     0     0     1      0      1      0      0      0      0   \n",
       "3     0     0     0     0     0      0      1      0      0      1      0   \n",
       "4     0     0     0     1     1      0      0      0      0      0      0   \n",
       "\n",
       "   HR_16  HR_17  HR_18  HR_19  HR_20  HR_21  HR_22  HR_23  \n",
       "0      0      0      2      0      0      0      0      0  \n",
       "1      0      0      0      0      0      0      0      0  \n",
       "2      0      0      0      0      0      0      0      0  \n",
       "3      0      0      0      0      0      0      0      0  \n",
       "4      0      0      0      0      0      0      0      0  "
      ]
     },
     "execution_count": 9,
     "metadata": {},
     "output_type": "execute_result"
    }
   ],
   "source": [
    "df.head()"
   ]
  },
  {
   "cell_type": "markdown",
   "metadata": {},
   "source": [
    "# Metadata\n",
    "\n",
    "The training set contains the customer data from ABCDEats Inc. collected over three months from three cities.\n",
    "\n",
    "| Feature | Feature description |\n",
    "|---------|---------------------|\n",
    "| *customer_id* | Unique identifier for each customer.|\n",
    "| *customer_region* | Geographic region where the customer is located.|\n",
    "| *customer_age* | Age of the customer.|\n",
    "| *vendor_count* | Number of unique vendors the customer has ordered from.|\n",
    "| *product_count* | Total number of products the customer has ordered.|\n",
    "| *is_chain* | Indicates whether the customer’s order was from a chain restaurant.|\n",
    "| *first_order* | Number of days from the start of the dataset when the customer first placed an order.|\n",
    "| *last_order* | Number of days from the start of the dataset when the customer most recently placed an order.|\n",
    "| *last_promo* | The category of the promotion or discount most recently used by the customer.|\n",
    "| *payment_method* | Method most recently used by the customer to pay for their orders.|\n",
    "| *CUI_American* | The amount in monetary units spent by the customer from the American cuisine.|\n",
    "| *CUI_Asian* | The amount in monetary units spent by the customer from the Asian cuisine.|\n",
    "|*CUI_Beverages* | The amount in monetary units spent by the customer from the Beverages|\n",
    "| *CUI_Cafe* | The amount in monetary units spent by the customer from the Cafe.|\n",
    "| *CUI_Chicken Dishes* | The amount in monetary units spent by the customer from the Chicken Dishes.|\n",
    "| *CUI_Chinese* | The amount in monetary units spent by the customer from the Chinese cuisine.|\n",
    "| *CUI_Desserts* | The amount in monetary units spent by the customer from the Desserts.|\n",
    "| *CUI_Healthy* | The amount in monetary units spent by the customer from the Healthy cuisine.|\n",
    "| *CUI_Indian* | The amount in monetary units spent by the customer from the Indian cuisine.|\n",
    "| *CUI_Italian* | The amount in monetary units spent by the customer from the Italian cuisine.|\n",
    "| *CUI_Japanese* | The amount in monetary units spent by the customer from the Japanese cuisine.|\n",
    "| *CUI_Noodle Dishes* | The amount in monetary units spent by the customer from the Noodle Dishes.|\n",
    "| *CUI_OTHER* | The amount in monetary units spent by the customer from the Other cuisine.|\n",
    "| *CUI_Street Food / Snacks* | The amount in monetary units spent by the customer from the Street Food / Snacks.|\n",
    "| *CUI_Thai* | The amount in monetary units spent by the customer from the Thai cuisine.|\n",
    "| *DOW_0* | Number of orders placed on each day of Sunday.|\n",
    "| *DOW_1* | Number of orders placed on each day of Monday.|\n",
    "| *DOW_2* | Number of orders placed on each day of Tuesday.|\n",
    "| *DOW_3* | Number of orders placed on each day of Wednesday.|\n",
    "| *DOW_4* | Number of orders placed on each day of Thursday.|\n",
    "| *DOW_5* | Number of orders placed on each day of Friday.|\n",
    "| *DOW_6* | Number of orders placed on each day of Saturday.|\n",
    "| *HR_0* | Number of orders placed during 12AM.|\n",
    "| *HR_1* | Number of orders placed during 1AM.|\n",
    "| *HR_2* | Number of orders placed during 2AM.|\n",
    "| *HR_3* | Number of orders placed during 3AM.|\n",
    "| *HR_4* | Number of orders placed during 4AM.|\n",
    "| *HR_5* | Number of orders placed during 5AM.|\n",
    "| *HR_6* | Number of orders placed during 6AM.|\n",
    "| *HR_7* | Number of orders placed during 7AM.|\n",
    "| *HR_8* | Number of orders placed during 8AM.|\n",
    "| *HR_9* | Number of orders placed during 9AM.|\n",
    "| *HR_10* | Number of orders placed during 10AM.|\n",
    "| *HR_11* | Number of orders placed during 11AM.|\n",
    "| *HR_12* | Number of orders placed during 12PM.|\n",
    "| *HR_13* | Number of orders placed during 1PM.|\n",
    "| *HR_14* | Number of orders placed during 2PM.|\n",
    "| *HR_15* | Number of orders placed during 3PM.|\n",
    "| *HR_16* | Number of orders placed during 4PM.|\n",
    "| *HR_17* | Number of orders placed during 5PM.|\n",
    "| *HR_18* | Number of orders placed during 6PM.|\n",
    "| *HR_19* | Number of orders placed during 7PM.|\n",
    "| *HR_20* | Number of orders placed during 8PM.|\n",
    "| *HR_21* | Number of orders placed during 9PM.|\n",
    "| *HR_22* | Number of orders placed during 10PM.|\n",
    "| *HR_23* | Number of orders placed during 11PM.|"
   ]
  },
  {
   "cell_type": "markdown",
   "metadata": {},
   "source": [
    "# 2. Treat Missing Values\n",
    "## Remarks from first delivery\n",
    "- **'customer_age'**: 727 (NaN)\n",
    "- **'first_order'**: 106 (NaN)\n",
    "- **'HR_0'**: 1165 (NaN)\n",
    "- **'customer_region'**: 442 (-)\n",
    "- **'last_promo'**: 16748 (-) --> Exaggerated number of missing values. It need to consider about this later."
   ]
  },
  {
   "cell_type": "code",
   "execution_count": 12,
   "metadata": {},
   "outputs": [
    {
     "data": {
      "text/plain": [
       "(31888, 56)"
      ]
     },
     "execution_count": 12,
     "metadata": {},
     "output_type": "execute_result"
    }
   ],
   "source": [
    "df.shape"
   ]
  },
  {
   "cell_type": "code",
   "execution_count": 13,
   "metadata": {},
   "outputs": [
    {
     "data": {
      "text/plain": [
       "customer_id                    0\n",
       "customer_region                0\n",
       "customer_age                 727\n",
       "vendor_count                   0\n",
       "product_count                  0\n",
       "is_chain                       0\n",
       "first_order                  106\n",
       "last_order                     0\n",
       "last_promo                     0\n",
       "payment_method                 0\n",
       "CUI_American                   0\n",
       "CUI_Asian                      0\n",
       "CUI_Beverages                  0\n",
       "CUI_Cafe                       0\n",
       "CUI_Chicken Dishes             0\n",
       "CUI_Chinese                    0\n",
       "CUI_Desserts                   0\n",
       "CUI_Healthy                    0\n",
       "CUI_Indian                     0\n",
       "CUI_Italian                    0\n",
       "CUI_Japanese                   0\n",
       "CUI_Noodle Dishes              0\n",
       "CUI_OTHER                      0\n",
       "CUI_Street Food / Snacks       0\n",
       "CUI_Thai                       0\n",
       "DOW_0                          0\n",
       "DOW_1                          0\n",
       "DOW_2                          0\n",
       "DOW_3                          0\n",
       "DOW_4                          0\n",
       "DOW_5                          0\n",
       "DOW_6                          0\n",
       "HR_0                        1165\n",
       "HR_1                           0\n",
       "HR_2                           0\n",
       "HR_3                           0\n",
       "HR_4                           0\n",
       "HR_5                           0\n",
       "HR_6                           0\n",
       "HR_7                           0\n",
       "HR_8                           0\n",
       "HR_9                           0\n",
       "HR_10                          0\n",
       "HR_11                          0\n",
       "HR_12                          0\n",
       "HR_13                          0\n",
       "HR_14                          0\n",
       "HR_15                          0\n",
       "HR_16                          0\n",
       "HR_17                          0\n",
       "HR_18                          0\n",
       "HR_19                          0\n",
       "HR_20                          0\n",
       "HR_21                          0\n",
       "HR_22                          0\n",
       "HR_23                          0\n",
       "dtype: int64"
      ]
     },
     "execution_count": 13,
     "metadata": {},
     "output_type": "execute_result"
    }
   ],
   "source": [
    "df.isna().sum()"
   ]
  },
  {
   "cell_type": "code",
   "execution_count": 14,
   "metadata": {},
   "outputs": [],
   "source": [
    "# Fill missing values in customer age with its median\n",
    "df[\"customer_age\"] = df[\"customer_age\"].fillna(df[\"customer_age\"].median())"
   ]
  },
  {
   "cell_type": "code",
   "execution_count": 15,
   "metadata": {},
   "outputs": [],
   "source": [
    "# Fill missing values in first_order with its median\n",
    "df[\"first_order\"] = df[\"first_order\"].fillna(df[\"first_order\"].median())"
   ]
  },
  {
   "cell_type": "code",
   "execution_count": 16,
   "metadata": {},
   "outputs": [
    {
     "data": {
      "text/plain": [
       "array([ 0., nan])"
      ]
     },
     "execution_count": 16,
     "metadata": {},
     "output_type": "execute_result"
    }
   ],
   "source": [
    "# Check HR_0 \n",
    "df[\"HR_0\"].unique()"
   ]
  },
  {
   "cell_type": "code",
   "execution_count": 17,
   "metadata": {},
   "outputs": [],
   "source": [
    "# Fill missing values in HR_0 with its median\n",
    "df[\"HR_0\"] = df[\"HR_0\"].fillna(df[\"HR_0\"].fillna(0))"
   ]
  },
  {
   "cell_type": "code",
   "execution_count": 18,
   "metadata": {},
   "outputs": [
    {
     "data": {
      "text/plain": [
       "array(['2360', '8670', '4660', '2440', '-', '4140', '2490', '8370',\n",
       "       '8550'], dtype=object)"
      ]
     },
     "execution_count": 18,
     "metadata": {},
     "output_type": "execute_result"
    }
   ],
   "source": [
    "# Check customer_regio\n",
    "df[\"customer_region\"].unique()"
   ]
  },
  {
   "cell_type": "code",
   "execution_count": 19,
   "metadata": {},
   "outputs": [
    {
     "data": {
      "text/plain": [
       "customer_region\n",
       "8670    9761\n",
       "4660    9550\n",
       "2360    8829\n",
       "2440    1483\n",
       "4140     857\n",
       "8370     495\n",
       "2490     445\n",
       "-        442\n",
       "8550      26\n",
       "Name: count, dtype: int64"
      ]
     },
     "execution_count": 19,
     "metadata": {},
     "output_type": "execute_result"
    }
   ],
   "source": [
    "# Check customer_region\n",
    "df[\"customer_region\"].value_counts()"
   ]
  },
  {
   "cell_type": "markdown",
   "metadata": {},
   "source": [
    "From the visualization, \"-\" seems like to be able to be considered as City C (starting with 8000). Thus, we can fill the missing value \"-\" with \"8\" for now since we will merge it with \"8670\", \"8370\" and \"8550\"."
   ]
  },
  {
   "cell_type": "code",
   "execution_count": 21,
   "metadata": {},
   "outputs": [],
   "source": [
    "# Fill missing values \"-\" in customer_region with 8000\n",
    "df[\"customer_region\"] = df[\"customer_region\"].replace(\"-\", 8000)"
   ]
  },
  {
   "cell_type": "code",
   "execution_count": 23,
   "metadata": {},
   "outputs": [
    {
     "data": {
      "text/plain": [
       "customer_region\n",
       "8670    9761\n",
       "4660    9550\n",
       "2360    8829\n",
       "2440    1483\n",
       "4140     857\n",
       "8370     495\n",
       "2490     445\n",
       "8000     442\n",
       "8550      26\n",
       "Name: count, dtype: int64"
      ]
     },
     "execution_count": 23,
     "metadata": {},
     "output_type": "execute_result"
    }
   ],
   "source": [
    "# Check customer_region\n",
    "df[\"customer_region\"].value_counts()"
   ]
  },
  {
   "cell_type": "code",
   "execution_count": 37,
   "metadata": {},
   "outputs": [
    {
     "data": {
      "text/plain": [
       "last_promo\n",
       "-           16748\n",
       "DELIVERY     6286\n",
       "DISCOUNT     4496\n",
       "FREEBIE      4358\n",
       "Name: count, dtype: int64"
      ]
     },
     "execution_count": 37,
     "metadata": {},
     "output_type": "execute_result"
    }
   ],
   "source": [
    "# Check last_promo\n",
    "df[\"last_promo\"].value_counts()"
   ]
  },
  {
   "cell_type": "markdown",
   "metadata": {},
   "source": [
    "Since there are 16748 of \"-\" in last_promo, we decided to rename it to \"UNKNOWN\" for now. Additionally, we might drop the feature itself later."
   ]
  },
  {
   "cell_type": "code",
   "execution_count": 40,
   "metadata": {},
   "outputs": [],
   "source": [
    "# Fill missing values \"-\" in last_prom with UNKNOWN\n",
    "df[\"last_promo\"] = df[\"last_promo\"].replace(\"-\", \"UNKNOWN\")"
   ]
  },
  {
   "cell_type": "code",
   "execution_count": 42,
   "metadata": {},
   "outputs": [
    {
     "data": {
      "text/plain": [
       "last_promo\n",
       "UNKNOWN     16748\n",
       "DELIVERY     6286\n",
       "DISCOUNT     4496\n",
       "FREEBIE      4358\n",
       "Name: count, dtype: int64"
      ]
     },
     "execution_count": 42,
     "metadata": {},
     "output_type": "execute_result"
    }
   ],
   "source": [
    "# Check last_promo\n",
    "df[\"last_promo\"].value_counts()"
   ]
  },
  {
   "cell_type": "code",
   "execution_count": 44,
   "metadata": {},
   "outputs": [
    {
     "data": {
      "text/plain": [
       "customer_id                 0\n",
       "customer_region             0\n",
       "customer_age                0\n",
       "vendor_count                0\n",
       "product_count               0\n",
       "is_chain                    0\n",
       "first_order                 0\n",
       "last_order                  0\n",
       "last_promo                  0\n",
       "payment_method              0\n",
       "CUI_American                0\n",
       "CUI_Asian                   0\n",
       "CUI_Beverages               0\n",
       "CUI_Cafe                    0\n",
       "CUI_Chicken Dishes          0\n",
       "CUI_Chinese                 0\n",
       "CUI_Desserts                0\n",
       "CUI_Healthy                 0\n",
       "CUI_Indian                  0\n",
       "CUI_Italian                 0\n",
       "CUI_Japanese                0\n",
       "CUI_Noodle Dishes           0\n",
       "CUI_OTHER                   0\n",
       "CUI_Street Food / Snacks    0\n",
       "CUI_Thai                    0\n",
       "DOW_0                       0\n",
       "DOW_1                       0\n",
       "DOW_2                       0\n",
       "DOW_3                       0\n",
       "DOW_4                       0\n",
       "DOW_5                       0\n",
       "DOW_6                       0\n",
       "HR_0                        0\n",
       "HR_1                        0\n",
       "HR_2                        0\n",
       "HR_3                        0\n",
       "HR_4                        0\n",
       "HR_5                        0\n",
       "HR_6                        0\n",
       "HR_7                        0\n",
       "HR_8                        0\n",
       "HR_9                        0\n",
       "HR_10                       0\n",
       "HR_11                       0\n",
       "HR_12                       0\n",
       "HR_13                       0\n",
       "HR_14                       0\n",
       "HR_15                       0\n",
       "HR_16                       0\n",
       "HR_17                       0\n",
       "HR_18                       0\n",
       "HR_19                       0\n",
       "HR_20                       0\n",
       "HR_21                       0\n",
       "HR_22                       0\n",
       "HR_23                       0\n",
       "dtype: int64"
      ]
     },
     "execution_count": 44,
     "metadata": {},
     "output_type": "execute_result"
    }
   ],
   "source": [
    "# replace \"\" by nans\n",
    "df.replace(\"\", np.nan, inplace=True)\n",
    "\n",
    "# count of missing values\n",
    "df.isna().sum()"
   ]
  },
  {
   "cell_type": "markdown",
   "metadata": {},
   "source": [
    "# 3. Change the dtype\n",
    "## Remarks\n",
    "- **'customer_region'** should be int instead of obj.\n",
    "- **'customer_age'** should be int instead of float.\n",
    "- **'is_chain'** should be bool instead of int because we agreed with METADATA.\n",
    "- **'first_order'** should be int instead of float.\n",
    "- **'HR_0'** should be int instead of float."
   ]
  },
  {
   "cell_type": "code",
   "execution_count": 47,
   "metadata": {},
   "outputs": [],
   "source": [
    "df[\"customer_region\"] = df[\"customer_region\"].astype(\"int\")"
   ]
  },
  {
   "cell_type": "code",
   "execution_count": 49,
   "metadata": {},
   "outputs": [],
   "source": [
    "df[\"customer_age\"] = df[\"customer_age\"].astype(\"int\")"
   ]
  },
  {
   "cell_type": "code",
   "execution_count": 51,
   "metadata": {},
   "outputs": [],
   "source": [
    "df[\"first_order\"] = df[\"first_order\"].astype(\"int\")"
   ]
  },
  {
   "cell_type": "code",
   "execution_count": 53,
   "metadata": {},
   "outputs": [],
   "source": [
    "df[\"HR_0\"] = df[\"HR_0\"].astype(\"int\")"
   ]
  },
  {
   "cell_type": "code",
   "execution_count": 55,
   "metadata": {},
   "outputs": [
    {
     "data": {
      "text/plain": [
       "array([ 1,  2,  0,  3,  5,  4,  7, 12,  6, 23,  8, 11, 20, 14,  9, 10, 16,\n",
       "       15, 13, 25, 17, 27, 30, 32, 24, 18, 26, 28, 22, 40, 31, 39, 21, 37,\n",
       "       19, 33, 65, 38, 29, 45, 47, 73, 81, 56, 35, 46, 67, 44, 61, 34, 36,\n",
       "       49, 83, 75, 43, 42, 48, 63, 54, 80])"
      ]
     },
     "execution_count": 55,
     "metadata": {},
     "output_type": "execute_result"
    }
   ],
   "source": [
    "df[\"is_chain\"].unique()"
   ]
  },
  {
   "cell_type": "code",
   "execution_count": 57,
   "metadata": {},
   "outputs": [],
   "source": [
    "df[\"is_chain\"] = df[\"is_chain\"].astype(\"bool\")\n",
    "#Replace True with 1 and False with 0\n",
    "\n",
    "df[\"is_chain\"] = df[\"is_chain\"].apply(lambda x: 1 if x else 0)"
   ]
  },
  {
   "cell_type": "markdown",
   "metadata": {},
   "source": [
    "## Treat dups"
   ]
  },
  {
   "cell_type": "code",
   "execution_count": 60,
   "metadata": {},
   "outputs": [
    {
     "data": {
      "text/plain": [
       "13"
      ]
     },
     "execution_count": 60,
     "metadata": {},
     "output_type": "execute_result"
    }
   ],
   "source": [
    "df.duplicated().sum()"
   ]
  },
  {
   "cell_type": "code",
   "execution_count": 62,
   "metadata": {},
   "outputs": [],
   "source": [
    "df.drop_duplicates(inplace=True)"
   ]
  },
  {
   "cell_type": "code",
   "execution_count": 64,
   "metadata": {},
   "outputs": [
    {
     "data": {
      "text/plain": [
       "0"
      ]
     },
     "execution_count": 64,
     "metadata": {},
     "output_type": "execute_result"
    }
   ],
   "source": [
    "df.duplicated().sum()"
   ]
  },
  {
   "cell_type": "markdown",
   "metadata": {},
   "source": [
    "# 5. Outliers\n",
    "### Remarks for Outliers in Cuisine Orders and All Hours Outliers:\n",
    "- This figure presents boxplots for each cuisine and hours metric, highlighting outliers in the order counts.\n",
    "- Box plots are chosen for their effectiveness in visualizing the distribution of data and identifying outliers.\n",
    "- The use of a consistent gray color allows for a cohesive and professional look.\n",
    "- This visualization assists in understanding the variability of order counts across different cuisines and hours, and identifying any extreme values.\n",
    "\n",
    "### Remarks for Vendor Count:\n",
    "- This box plot visualizes the distribution of vendor counts across the dataset.\n",
    "- It highlights the median, quartiles, and potential outliers in vendor count values,\n",
    "- allowing for a clear understanding of vendor count variability.\n",
    "\n",
    "### Remarks for Product Count:\n",
    "- This box plot illustrates the distribution of product counts within the dataset.\n",
    "- It shows the central tendency, variability, and any outliers in product counts.\n",
    "- Providing insights into how product availability varies across vendors.\n",
    "\n",
    "### Remarks for Customer Age:\n",
    "- This box plot represents the distribution of customer ages in the dataset.\n",
    "- It highlights the median age, the interquartile range, and any potential outliers.\n",
    "- Offering insights into the age demographics of customers interacting with the vendors."
   ]
  },
  {
   "cell_type": "markdown",
   "metadata": {},
   "source": [
    "### Define metric and non-metric features. "
   ]
  },
  {
   "cell_type": "code",
   "execution_count": 68,
   "metadata": {},
   "outputs": [
    {
     "name": "stdout",
     "output_type": "stream",
     "text": [
      "<class 'pandas.core.frame.DataFrame'>\n",
      "Index: 31875 entries, 0 to 31887\n",
      "Data columns (total 56 columns):\n",
      " #   Column                    Non-Null Count  Dtype  \n",
      "---  ------                    --------------  -----  \n",
      " 0   customer_id               31875 non-null  object \n",
      " 1   customer_region           31875 non-null  int64  \n",
      " 2   customer_age              31875 non-null  int64  \n",
      " 3   vendor_count              31875 non-null  int64  \n",
      " 4   product_count             31875 non-null  int64  \n",
      " 5   is_chain                  31875 non-null  int64  \n",
      " 6   first_order               31875 non-null  int64  \n",
      " 7   last_order                31875 non-null  int64  \n",
      " 8   last_promo                31875 non-null  object \n",
      " 9   payment_method            31875 non-null  object \n",
      " 10  CUI_American              31875 non-null  float64\n",
      " 11  CUI_Asian                 31875 non-null  float64\n",
      " 12  CUI_Beverages             31875 non-null  float64\n",
      " 13  CUI_Cafe                  31875 non-null  float64\n",
      " 14  CUI_Chicken Dishes        31875 non-null  float64\n",
      " 15  CUI_Chinese               31875 non-null  float64\n",
      " 16  CUI_Desserts              31875 non-null  float64\n",
      " 17  CUI_Healthy               31875 non-null  float64\n",
      " 18  CUI_Indian                31875 non-null  float64\n",
      " 19  CUI_Italian               31875 non-null  float64\n",
      " 20  CUI_Japanese              31875 non-null  float64\n",
      " 21  CUI_Noodle Dishes         31875 non-null  float64\n",
      " 22  CUI_OTHER                 31875 non-null  float64\n",
      " 23  CUI_Street Food / Snacks  31875 non-null  float64\n",
      " 24  CUI_Thai                  31875 non-null  float64\n",
      " 25  DOW_0                     31875 non-null  int64  \n",
      " 26  DOW_1                     31875 non-null  int64  \n",
      " 27  DOW_2                     31875 non-null  int64  \n",
      " 28  DOW_3                     31875 non-null  int64  \n",
      " 29  DOW_4                     31875 non-null  int64  \n",
      " 30  DOW_5                     31875 non-null  int64  \n",
      " 31  DOW_6                     31875 non-null  int64  \n",
      " 32  HR_0                      31875 non-null  int64  \n",
      " 33  HR_1                      31875 non-null  int64  \n",
      " 34  HR_2                      31875 non-null  int64  \n",
      " 35  HR_3                      31875 non-null  int64  \n",
      " 36  HR_4                      31875 non-null  int64  \n",
      " 37  HR_5                      31875 non-null  int64  \n",
      " 38  HR_6                      31875 non-null  int64  \n",
      " 39  HR_7                      31875 non-null  int64  \n",
      " 40  HR_8                      31875 non-null  int64  \n",
      " 41  HR_9                      31875 non-null  int64  \n",
      " 42  HR_10                     31875 non-null  int64  \n",
      " 43  HR_11                     31875 non-null  int64  \n",
      " 44  HR_12                     31875 non-null  int64  \n",
      " 45  HR_13                     31875 non-null  int64  \n",
      " 46  HR_14                     31875 non-null  int64  \n",
      " 47  HR_15                     31875 non-null  int64  \n",
      " 48  HR_16                     31875 non-null  int64  \n",
      " 49  HR_17                     31875 non-null  int64  \n",
      " 50  HR_18                     31875 non-null  int64  \n",
      " 51  HR_19                     31875 non-null  int64  \n",
      " 52  HR_20                     31875 non-null  int64  \n",
      " 53  HR_21                     31875 non-null  int64  \n",
      " 54  HR_22                     31875 non-null  int64  \n",
      " 55  HR_23                     31875 non-null  int64  \n",
      "dtypes: float64(15), int64(38), object(3)\n",
      "memory usage: 13.9+ MB\n"
     ]
    }
   ],
   "source": [
    "df.info()"
   ]
  },
  {
   "cell_type": "code",
   "execution_count": 70,
   "metadata": {},
   "outputs": [
    {
     "name": "stdout",
     "output_type": "stream",
     "text": [
      "['customer_region', 'customer_age', 'vendor_count', 'product_count', 'is_chain', 'first_order', 'last_order', 'CUI_American', 'CUI_Asian', 'CUI_Beverages', 'CUI_Cafe', 'CUI_Chicken Dishes', 'CUI_Chinese', 'CUI_Desserts', 'CUI_Healthy', 'CUI_Indian', 'CUI_Italian', 'CUI_Japanese', 'CUI_Noodle Dishes', 'CUI_OTHER', 'CUI_Street Food / Snacks', 'CUI_Thai', 'DOW_0', 'DOW_1', 'DOW_2', 'DOW_3', 'DOW_4', 'DOW_5', 'DOW_6', 'HR_0', 'HR_1', 'HR_2', 'HR_3', 'HR_4', 'HR_5', 'HR_6', 'HR_7', 'HR_8', 'HR_9', 'HR_10', 'HR_11', 'HR_12', 'HR_13', 'HR_14', 'HR_15', 'HR_16', 'HR_17', 'HR_18', 'HR_19', 'HR_20', 'HR_21', 'HR_22', 'HR_23']\n"
     ]
    }
   ],
   "source": [
    "# Define the list of non-metric features\n",
    "non_metric_features = [\n",
    "    \"customer_id\", \n",
    "    \"last_promo\", \n",
    "    \"payment_method\"\n",
    "]\n",
    "\n",
    "# Extract metric features by excluding non-metric features from the DataFrame columns\n",
    "metric_features = df.columns.drop(non_metric_features).to_list()\n",
    "\n",
    "# Print the list of metric features\n",
    "print(metric_features)"
   ]
  },
  {
   "cell_type": "markdown",
   "metadata": {},
   "source": [
    "### Box Plots"
   ]
  },
  {
   "cell_type": "code",
   "execution_count": 73,
   "metadata": {},
   "outputs": [
    {
     "data": {
      "image/png": "[encoded data removed]",
      "text/plain": [
       "<Figure size 2000x1100 with 15 Axes>"
      ]
     },
     "metadata": {},
     "output_type": "display_data"
    }
   ],
   "source": [
    "import seaborn as sns\n",
    "import matplotlib.pyplot as plt\n",
    "from math import ceil\n",
    "\n",
    "# Step 1: List of features for which you want to plot boxplots\n",
    "metric_features = [col for col in df.columns if 'CUI_' in col]\n",
    "\n",
    "# Step 2: Filter valid columns to avoid errors\n",
    "valid_features = [feat for feat in metric_features if feat in df.columns]\n",
    "\n",
    "# Step 3: Set Seaborn style for better aesthetics\n",
    "sns.set()\n",
    "\n",
    "# Step 4: Number of rows and columns in the subplot grid\n",
    "sp_rows = 5\n",
    "sp_cols = ceil(len(valid_features) / sp_rows)  # Calculate the number of columns needed\n",
    "\n",
    "# Step 5: Prepare figure and axes for subplots\n",
    "fig, axes = plt.subplots(sp_rows, \n",
    "                         sp_cols, \n",
    "                         figsize=(20, 11)  # Size of the figure\n",
    "                        )\n",
    "\n",
    "# Step 6: Flatten axes array in case it is 2D for easier iteration\n",
    "axes = axes.flatten()\n",
    "\n",
    "# Step 7: Plot data: Iterate across axes and valid features\n",
    "for ax, feat in zip(axes, valid_features):\n",
    "    # Filter out 0s from the feature\n",
    "    data = df[feat].replace(0, float('nan'))  # Replace 0s with NaN (ignoring them in boxplot)\n",
    "    \n",
    "    # Plot the boxplot only for non-zero values\n",
    "    sns.boxplot(x=data, ax=ax, color=\"#9391A0\")  # Use grey color for the boxplots\n",
    "    ax.set_title(feat)  # Set title for each subplot to indicate the feature being plotted\n",
    "\n",
    "# Step 8: Remove any extra empty subplots if there are any\n",
    "for ax in axes[len(valid_features):]:\n",
    "    ax.remove()\n",
    "\n",
    "# Step 9: Layout adjustments\n",
    "title = \"Outliers in Cuisine Orders\"\n",
    "plt.suptitle(title, fontsize=16)  # Main title for the entire figure\n",
    "plt.tight_layout(rect=[0, 0, 1, 0.95])  # Adjust layout to make space for the main title\n",
    "plt.show()\n"
   ]
  },
  {
   "cell_type": "code",
   "execution_count": 74,
   "metadata": {},
   "outputs": [
    {
     "name": "stdout",
     "output_type": "stream",
     "text": [
      "Percentage of data kept after removing outliers: 0.993\n"
     ]
    }
   ],
   "source": [
    "filters = (\n",
    "    (df['CUI_American'] <= 150) &\n",
    "    (df['CUI_Asian'] <= 300) &\n",
    "    (df['CUI_Beverages'] <= 125) &\n",
    "    (df['CUI_Cafe'] <= 125) &\n",
    "    (df['CUI_Chicken Dishes'] <= 60) &\n",
    "    (df['CUI_Chinese'] <= 150) &\n",
    "    (df['CUI_Desserts'] <= 75) &\n",
    "    (df['CUI_Healthy'] <= 80) &\n",
    "    (df['CUI_Indian'] <= 110) &\n",
    "    (df['CUI_Italian'] <= 160) &\n",
    "    (df['CUI_Japanese'] <= 150) &\n",
    "    (df['CUI_Noodle Dishes'] <= 75) &\n",
    "    (df['CUI_OTHER'] <= 125) &\n",
    "    (df['CUI_Street Food / Snacks'] <= 200) &\n",
    "    (df['CUI_Thai'] <= 60) \n",
    ")\n",
    "\n",
    "df_filtered = df[filters]\n",
    "\n",
    "print('Percentage of data kept after removing outliers:', np.round(df_filtered.shape[0] / df.shape[0], 4))"
   ]
  },
  {
   "cell_type": "code",
   "execution_count": 40,
   "metadata": {},
   "outputs": [
    {
     "data": {
      "image/png": "[encoded data removed]",
      "text/plain": [
       "<Figure size 2000x1100 with 24 Axes>"
      ]
     },
     "metadata": {},
     "output_type": "display_data"
    }
   ],
   "source": [
    "# Step 1: List of features for which you want to plot boxplots\n",
    "metric_features = [col for col in df.columns if 'HR_' in col]\n",
    "\n",
    "# Step 2: Filter valid columns to avoid errors\n",
    "valid_features = [feat for feat in metric_features if feat in df.columns]\n",
    "\n",
    "# Step 3: Set Seaborn style for better aesthetics\n",
    "sns.set()\n",
    "\n",
    "# Step 4: Number of rows and columns in the subplot grid\n",
    "sp_rows = 5\n",
    "sp_cols = ceil(len(valid_features) / sp_rows)  # Calculate the number of columns needed\n",
    "\n",
    "# Step 5: Prepare figure and axes for subplots\n",
    "fig, axes = plt.subplots(sp_rows, \n",
    "                         sp_cols, \n",
    "                         figsize=(20, 11)  # Size of the figure\n",
    "                        )\n",
    "\n",
    "# Step 6: Flatten axes array in case it is 2D for easier iteration\n",
    "axes = axes.flatten()\n",
    "\n",
    "# Step 7: Plot data: Iterate across axes and valid features\n",
    "for ax, feat in zip(axes, valid_features):\n",
    "    sns.boxplot(x=df[feat], ax=ax, color=\"#9391A0\")  # Use grey color for the boxplots\n",
    "    ax.set_title(feat)  # Set title for each subplot to indicate the feature being plotted\n",
    "\n",
    "# Step 8: Remove any extra empty subplots if there are any\n",
    "for ax in axes[len(valid_features):]:\n",
    "    ax.remove()\n",
    "\n",
    "# Step 9: Layout adjustments\n",
    "title = \"Outliers in Cuisine Orders\"\n",
    "plt.suptitle(title, fontsize=16)  # Main title for the entire figure\n",
    "plt.tight_layout(rect=[0, 0, 1, 0.95])  # Adjust layout to make space for the main title\n",
    "plt.show()\n"
   ]
  },
  {
   "cell_type": "code",
   "execution_count": null,
   "metadata": {},
   "outputs": [],
   "source": [
    "# Step 1: List of features for which you want to plot boxplots\n",
    "metric_features = [col for col in df.columns if 'CUI_' in col]\n",
    "\n",
    "# Step 2: Filter valid columns to avoid errors\n",
    "valid_features = [feat for feat in metric_features if feat in df.columns]\n",
    "\n",
    "# Step 3: Set Seaborn style for better aesthetics\n",
    "sns.set()\n",
    "\n",
    "# Step 4: Number of rows and columns in the subplot grid\n",
    "sp_rows = 5\n",
    "sp_cols = ceil(len(valid_features) / sp_rows)  # Calculate the number of columns needed\n",
    "\n",
    "# Step 5: Prepare figure and axes for subplots\n",
    "fig, axes = plt.subplots(sp_rows, \n",
    "                         sp_cols, \n",
    "                         figsize=(20, 11)  # Size of the figure\n",
    "                        )\n",
    "\n",
    "# Step 6: Flatten axes array in case it is 2D for easier iteration\n",
    "axes = axes.flatten()\n",
    "\n",
    "# Step 7: Plot data: Iterate across axes and valid features\n",
    "for ax, feat in zip(axes, valid_features):\n",
    "    sns.boxplot(x=df[feat], ax=ax, color=\"#9391A0\")  # Use grey color for the boxplots\n",
    "    ax.set_title(feat)  # Set title for each subplot to indicate the feature being plotted\n",
    "\n",
    "# Step 8: Remove any extra empty subplots if there are any\n",
    "for ax in axes[len(valid_features):]:\n",
    "    ax.remove()\n",
    "\n",
    "# Step 9: Layout adjustments\n",
    "title = \"Outliers in Cuisine Orders\"\n",
    "plt.suptitle(title, fontsize=16)  # Main title for the entire figure\n",
    "plt.tight_layout(rect=[0, 0, 1, 0.95])  # Adjust layout to make space for the main title\n",
    "plt.show()\n"
   ]
  },
  {
   "cell_type": "code",
   "execution_count": 36,
   "metadata": {},
   "outputs": [
    {
     "data": {
      "image/png": "[encoded data removed]",
      "text/plain": [
       "<Figure size 2000x1100 with 24 Axes>"
      ]
     },
     "metadata": {},
     "output_type": "display_data"
    }
   ],
   "source": [
    "# List of features for which you want to plot boxplots\n",
    "metric_features = [col for col in df.columns if 'HR_' in col]\n",
    "\n",
    "# Filter valid columns to avoid errors\n",
    "valid_features = [feat for feat in metric_features if feat in df.columns]\n",
    "\n",
    "# Set Seaborn style\n",
    "sns.set()\n",
    "\n",
    "# Number of rows and columns in the subplot grid\n",
    "sp_rows = 5\n",
    "sp_cols = ceil(len(valid_features) / sp_rows)\n",
    "\n",
    "# Prepare figure and axes\n",
    "fig, axes = plt.subplots(sp_rows, \n",
    "                         sp_cols, \n",
    "                         figsize=(20, 11)\n",
    "                        )\n",
    "\n",
    "# Flatten axes array in case it is 2D\n",
    "axes = axes.flatten()\n",
    "\n",
    "# Plot data: Iterate across axes and valid features\n",
    "for ax, feat in zip(axes, valid_features):\n",
    "    sns.boxplot(x=df[feat], ax=ax, color= \"#9391A0\")\n",
    "\n",
    "# Remove any extra empty subplots\n",
    "for ax in axes[len(valid_features):]:\n",
    "    ax.remove()\n",
    "\n",
    "# Layout adjustments\n",
    "title = \"All Hours Outliers\"\n",
    "plt.suptitle(title)\n",
    "plt.tight_layout()\n",
    "plt.show()"
   ]
  },
  {
   "cell_type": "code",
   "execution_count": 35,
   "metadata": {},
   "outputs": [
    {
     "data": {
      "image/png": "[encoded data removed]",
      "text/plain": [
       "<Figure size 800x400 with 1 Axes>"
      ]
     },
     "metadata": {},
     "output_type": "display_data"
    },
    {
     "data": {
      "image/png": "[encoded data removed]",
      "text/plain": [
       "<Figure size 800x400 with 1 Axes>"
      ]
     },
     "metadata": {},
     "output_type": "display_data"
    },
    {
     "data": {
      "image/png": "[encoded data removed]",
      "text/plain": [
       "<Figure size 800x400 with 1 Axes>"
      ]
     },
     "metadata": {},
     "output_type": "display_data"
    },
    {
     "data": {
      "image/png": "[encoded data removed]",
      "text/plain": [
       "<Figure size 800x400 with 1 Axes>"
      ]
     },
     "metadata": {},
     "output_type": "display_data"
    }
   ],
   "source": [
    "# Step 1: Plot Vendor Count\n",
    "plt.figure(figsize=(8, 4))  # Set the figure size for the plot\n",
    "sns.boxplot(x=df['vendor_count'], orient='h', color=\"#9391A0\")  # Create a horizontal boxplot for vendor count\n",
    "plt.title('Vendor Count', fontsize=16)  # Title for context\n",
    "plt.xlabel('Count', fontsize=12)  # X-axis label\n",
    "plt.show()  # Display the plot\n",
    "\n",
    "# Step 2: Plot Product Count\n",
    "plt.figure(figsize=(8, 4))  # Set the figure size for the plot\n",
    "sns.boxplot(x=df['product_count'], orient='h', color=\"#9391A0\")  # Create a horizontal boxplot for product count\n",
    "plt.title('Product Count', fontsize=16)  # Title for context\n",
    "plt.xlabel('Count', fontsize=12)  # X-axis label\n",
    "plt.show()  # Display the plot\n",
    "\n",
    "# Step 3: Plot Customer Age\n",
    "plt.figure(figsize=(8, 4))  # Set the figure size for the plot\n",
    "sns.boxplot(x=df['customer_age'], orient='h', color=\"#9391A0\")  # Create a horizontal boxplot for customer age\n",
    "plt.title('Customer Age', fontsize=16)  # Title for context\n",
    "plt.xlabel('Age', fontsize=12)  # X-axis label\n",
    "plt.show()  # Display the plot\n",
    "\n",
    "# Step 4: Plot customer_region\n",
    "plt.figure(figsize=(8, 4))  # Set the figure size for the plot\n",
    "sns.boxplot(x=df['customer_region'], orient='h', color=\"#9391A0\")  # Create a horizontal boxplot for customer age\n",
    "plt.title('customer_region', fontsize=16)  # Title for context\n",
    "plt.xlabel('Region', fontsize=12)  # X-axis label\n",
    "plt.show()  # Display the plot"
   ]
  },
  {
   "cell_type": "markdown",
   "metadata": {},
   "source": [
    "# 6. Key statistics summary\n",
    "\n",
    "## Remarks\n",
    "- **Customer Age**: The mean of 'customer_age' is 27.5. 25% of the customers are 23 or younger, and 75% are 32 or younger. Thus, young people tend to use our food delivery services.\n",
    "- **Vender Number**: The mean of 'vendor_count' is 3.1. 25% of the customers have ordered from one vendor, 50% have ordered from two vendors, and 75% have ordered from four vendors. Thus, most of the customers have ordered from less than four vendors in three months.\n",
    "- **Product Number**: The mean of 'product_count' is 5.67. 25% of the customers have ordered two products, 50% have ordered three products, and 75% have ordered seven products in three months. There is a high standard deviation of 6.96, reflecting significant variability in order volume.\n",
    "- **Chain Restaurant Number**: DISAGREE WITH METADATA. The values should be converted to boolean in the next process.\n",
    "- **Date of First Order and Last Order**: It is unclear whether these features will be useful in our analysis. It is still undecided, but it should be converted to a different presentation method if we use them.\n",
    "- **Payment Methods**: Most customers pay by card rather than by cash or digital.\n",
    "- **Customer Region**: There are eight different regions. There should be three cities instead, so it seems like they are postal codes. Then we can categorize them into three groups (cities): city A (2360, 2440 and 2490), city B (4660 and 4140), and city C (8670, 8370 and 8550) in the next process.\n",
    "- **Order Numbers per Regions**: The region with the highest number of orders was 8670, followed by 4660 and 2360, far ahead of the other regions. The region 8670 had the highest number of unique customers who placed orders, followed by 4660 and 2360.\n",
    "# 7. Trends\n",
    "- **Young Customers**: The majority of food delivery customers fall within the younger demographic range, predominantly between the ages of 18 and 32.\n",
    "- **Payment by Card**: Most customers pay by card rather than by cash or digital.\n",
    "- **Popular Cuisine**: American and Asian dishes emerge as the most popular choices.\n",
    "- **Popular Cuisine per Regions**: Asian cuisine is the most popular in region 8670, while Italian cuisine leads in region 4660. This trend is consistent across other city regions, though with significant variation in total order volumes. In region 4140, however, the popularity of these cuisines is less pronounced compared to the two largest regions. City A shows greater diversity in cuisine preferences than the other two cities.\n",
    "- **Busier Day of The Week**: Peak food ordering on Thursdays (DOW_4) and Saturdays (DOW_6).\n",
    "- **Busier Hours**: High demand occurs from 10:00 AM to 12:00 PM and 4:00 PM to 6:00 PM.\n",
    "- **Customer Frequency**: Most of the customers stay for two to three days, this short engagement period suggests that customers may use the service sporadically rather than consistently over extended periods."
   ]
  },
  {
   "cell_type": "code",
   "execution_count": null,
   "metadata": {},
   "outputs": [],
   "source": [
    "df.describe() # Provides a summary of key statistics"
   ]
  },
  {
   "cell_type": "code",
   "execution_count": null,
   "metadata": {},
   "outputs": [],
   "source": [
    "df.describe(include = \"object\")"
   ]
  },
  {
   "cell_type": "code",
   "execution_count": null,
   "metadata": {},
   "outputs": [],
   "source": [
    "(df['payment_method'] == \"DIGI\").sum()"
   ]
  },
  {
   "cell_type": "code",
   "execution_count": null,
   "metadata": {},
   "outputs": [],
   "source": [
    "(df['payment_method'] == \"CASH\").sum()"
   ]
  },
  {
   "cell_type": "code",
   "execution_count": null,
   "metadata": {
    "scrolled": true
   },
   "outputs": [],
   "source": [
    "df.describe(include = \"all\")"
   ]
  },
  {
   "cell_type": "markdown",
   "metadata": {},
   "source": [
    "## Bar Chart of Total Orders by Customer Region\n",
    "### Summary for Total Orders by Customer Region:\n",
    "- This bar chart shows the total number of orders segmented by customer regions.\n",
    "- The x-axis lists the different regions, while the y-axis indicates the total orders placed from each region.\n",
    "- This visualization is useful for understanding regional preferences and sales distribution."
   ]
  },
  {
   "cell_type": "code",
   "execution_count": null,
   "metadata": {},
   "outputs": [],
   "source": [
    "# List of all cuisine columns, including the combined CUI_OTHER\n",
    "cuisine_columns = [col for col in df.columns if 'CUI_' in col]  # Replace with actual cuisine column names\n",
    "\n",
    "# Calculate total orders by summing across all cuisine columns\n",
    "df['total_orders'] = df[cuisine_columns].sum(axis=1)\n",
    "\n",
    "# Group data by customer region and calculate total orders for each region\n",
    "region_orders = df.groupby('customer_region')['total_orders'].sum().sort_values(ascending=False)\n",
    "\n",
    "# Plotting the bar chart\n",
    "plt.figure(figsize=(12, 6))  # Set the figure size for visibility\n",
    "sns.barplot(x=region_orders.index, y=region_orders.values, color='#9391A0', edgecolor='black')  # Create the bar plot\n",
    "plt.title('Total Orders by Customer Region', fontsize=16)  # Title for context\n",
    "plt.xlabel('Customer Region', fontsize=12)  # X-axis label\n",
    "plt.ylabel('Total Orders', fontsize=12)  # Y-axis label\n",
    "plt.xticks(rotation=45)  # Rotate x-axis labels for better readability\n",
    "plt.tight_layout()  # Adjust layout for better presentation\n",
    "plt.show()  # Display the plot"
   ]
  },
  {
   "cell_type": "markdown",
   "metadata": {},
   "source": [
    "## Bar Chart of Unique Customer Count by Region\n",
    "### Summary for Unique Customer Count by Region:\n",
    "- This bar chart illustrates the number of unique customers segmented by customer regions.\n",
    "- The x-axis shows the different regions, while the y-axis indicates the count of unique customers from each region.\n",
    "- This visualization helps identify regions with higher customer engagement and potential market opportunities."
   ]
  },
  {
   "cell_type": "code",
   "execution_count": null,
   "metadata": {},
   "outputs": [],
   "source": [
    "# Calculate unique customer count per region\n",
    "region_customer_counts = df.groupby('customer_region')['customer_id'].nunique().sort_values(ascending=False)\n",
    "\n",
    "# Plotting the bar chart\n",
    "plt.figure(figsize=(12, 6))  # Set the figure size for visibility\n",
    "sns.barplot(x=region_customer_counts.index, y=region_customer_counts.values, color='#9391A0', edgecolor='black')  # Create the bar plot\n",
    "plt.title('Unique Customer Count by Region', fontsize=16)  # Title for context\n",
    "plt.xlabel('Customer Region', fontsize=12)  # X-axis label\n",
    "plt.ylabel('Number of Unique Customers', fontsize=12)  # Y-axis label\n",
    "plt.xticks(rotation=45)  # Rotate x-axis labels for better readability\n",
    "plt.tight_layout()  # Adjust layout for better presentation\n",
    "plt.show()  # Display the plot"
   ]
  },
  {
   "cell_type": "markdown",
   "metadata": {},
   "source": [
    "## Bar Chart of Total Orders by Customer Region and Cuisine Type\n",
    "### Summary for Total Orders by Region and Cuisine Type:\n",
    "- This bar chart illustrates the distribution of total orders across different customer regions, segmented by cuisine type.\n",
    "- The x-axis shows the various regions, while the y-axis indicates the total order count for each cuisine.\n",
    "- This visualization aids in understanding customer preferences and cuisine popularity in different regions."
   ]
  },
  {
   "cell_type": "code",
   "execution_count": null,
   "metadata": {},
   "outputs": [],
   "source": [
    "# Summing total orders by cuisine and region\n",
    "cuisine_columns = ['CUI_Asian', 'CUI_American', 'CUI_Italian', 'CUI_Street Food / Snacks']\n",
    "region_cuisine_orders = df.groupby('customer_region')[cuisine_columns].sum()\n",
    "\n",
    "# Resetting the index for plotting\n",
    "region_cuisine_orders = region_cuisine_orders.reset_index()\n",
    "\n",
    "# Melt the DataFrame to get a long-form version suitable for seaborn\n",
    "region_cuisine_orders_melted = region_cuisine_orders.melt(id_vars='customer_region', \n",
    "                                                          value_vars=cuisine_columns, \n",
    "                                                          var_name='Cuisine', \n",
    "                                                          value_name='Total Orders')\n",
    "\n",
    "# Plotting\n",
    "plt.figure(figsize=(14, 8))\n",
    "sns.barplot(data=region_cuisine_orders_melted, x='customer_region', y='Total Orders', hue='Cuisine', palette=\"muted\")\n",
    "plt.title('Total Orders by Customer Region and Cuisine Type')\n",
    "plt.xlabel('Customer Region')\n",
    "plt.ylabel('Total Orders')\n",
    "plt.xticks(rotation=45)\n",
    "plt.legend(title='Cuisine Type')\n",
    "plt.show()"
   ]
  },
  {
   "cell_type": "code",
   "execution_count": null,
   "metadata": {},
   "outputs": [],
   "source": [
    "# Summing total orders by cuisine and region\n",
    "cuisine_columns = ['CUI_Beverages', 'CUI_Cafe', 'CUI_Chicken Dishes', 'CUI_Chinese', 'CUI_Desserts', 'CUI_Healthy', 'CUI_Indian', 'CUI_Japanese', 'CUI_Noodle Dishes', 'CUI_OTHER', 'CUI_Thai']\n",
    "region_cuisine_orders = df.groupby('customer_region')[cuisine_columns].sum()\n",
    "\n",
    "# Resetting the index for plotting\n",
    "region_cuisine_orders = region_cuisine_orders.reset_index()\n",
    "\n",
    "# Melt the DataFrame to get a long-form version suitable for seaborn\n",
    "region_cuisine_orders_melted = region_cuisine_orders.melt(id_vars='customer_region', \n",
    "                                                          value_vars=cuisine_columns, \n",
    "                                                          var_name='Cuisine', \n",
    "                                                          value_name='Total Orders')\n",
    "\n",
    "# Plotting\n",
    "plt.figure(figsize=(14, 8))\n",
    "sns.barplot(data=region_cuisine_orders_melted, x='customer_region', y='Total Orders', hue='Cuisine', palette=\"muted\")\n",
    "plt.title('Total Orders by Customer Region and Cuisine Type')\n",
    "plt.xlabel('Customer Region')\n",
    "plt.ylabel('Total Orders')\n",
    "plt.xticks(rotation=45)\n",
    "plt.legend(title='Cuisine Type')\n",
    "plt.show()"
   ]
  },
  {
   "cell_type": "code",
   "execution_count": null,
   "metadata": {},
   "outputs": [],
   "source": [
    "# Summing total orders by cuisine and region\n",
    "cuisine_columns = ['CUI_Asian', 'CUI_American', 'CUI_Italian', 'CUI_Street Food / Snacks', 'CUI_OTHER', 'CUI_Chinese']\n",
    "region_cuisine_orders = df.groupby('customer_region')[cuisine_columns].sum()\n",
    "\n",
    "# Resetting the index for plotting\n",
    "region_cuisine_orders = region_cuisine_orders.reset_index()\n",
    "\n",
    "# Melt the DataFrame to get a long-form version suitable for seaborn\n",
    "region_cuisine_orders_melted = region_cuisine_orders.melt(id_vars='customer_region', \n",
    "                                                          value_vars=cuisine_columns, \n",
    "                                                          var_name='Cuisine', \n",
    "                                                          value_name='Total Orders')\n",
    "\n",
    "# Plotting\n",
    "plt.figure(figsize=(14, 8))\n",
    "sns.barplot(data=region_cuisine_orders_melted, x='customer_region', y='Total Orders', hue='Cuisine', palette=\"muted\")\n",
    "plt.title('Total Orders by Customer Region and Cuisine Type')\n",
    "plt.xlabel('Customer Region')\n",
    "plt.ylabel('Total Orders')\n",
    "plt.xticks(rotation=45)\n",
    "plt.legend(title='Cuisine Type')\n",
    "plt.show()"
   ]
  },
  {
   "cell_type": "markdown",
   "metadata": {},
   "source": [
    "## Histogram of Customer Frequency"
   ]
  },
  {
   "cell_type": "markdown",
   "metadata": {},
   "source": [
    "### Summary for Distribution of Client Duration:\n",
    "- This histogram illustrates the frequency distribution of the duration (in days) that clients have been active.\n",
    "- The x-axis represents the number of days, while the y-axis shows how many clients fall into each duration range.\n",
    "- This visualization helps to identify typical client lifespans and patterns in client retention."
   ]
  },
  {
   "cell_type": "code",
   "execution_count": null,
   "metadata": {},
   "outputs": [],
   "source": [
    "# Calculate the difference in days between the last and first order\n",
    "df['days_as_client'] = df['last_order'] - df['first_order']\n",
    "\n",
    "# Plotting the distribution of days as a client\n",
    "plt.figure(figsize=(10, 6))  # Set the figure size for visibility\n",
    "plt.hist(df['days_as_client'].dropna(), bins=30, color='#9391A0', edgecolor='black')  # Create histogram\n",
    "plt.title(\"Distribution of Client Duration (Days as Client)\", fontsize=16)  # Title for context\n",
    "plt.xlabel(\"Number of Days as Client\", fontsize=12)  # X-axis label\n",
    "plt.ylabel(\"Frequency\", fontsize=12)  # Y-axis label\n",
    "plt.tight_layout()  # Adjust layout for better presentation\n",
    "plt.show()  # Display the plot"
   ]
  },
  {
   "cell_type": "markdown",
   "metadata": {},
   "source": [
    "# 8. New Feature Creation\n",
    "\n",
    "## 1. Regional Demographic\n",
    "    [city_A; city_B; city_C]\n",
    "There are currently eight distinct regions identified in the customer_region feature, though these appear to correspond to postal codes rather than broader geographic areas. By consolidating these into three new categorical features representing cities — City A (2360, 2440, 2490), City B (4660, 4140), and City C (8670, 8370, 8550) — we gain valuable segmentation potential. \n",
    "    This new structure allows for a more refined analysis of customer preferences by city, particularly in terms of cuisine choices. Grouping regions in this way can enhance our understanding of geographic trends in customer behavior, enabling us to apply targeted marketing strategies that align more closely with regional tastes and preferences. This feature engineering step provides a clearer, more actionable view of customer segments, supporting data-driven decision-making for regional market approaches.\n",
    "\n",
    "## 2. Cuisine Popularity Rate\n",
    "    [low_popularity; medium_popularity; high_popularity]\n",
    "In our feature engineering efforts, we categorize cuisine types into three popularity levels — Low, Medium, and High — based on a defined order volume threshold. This segmentation enables targeted marketing strategies tailored to each cuisine's popularity. \n",
    "    For example, high-popularity cuisines can be promoted through broad campaigns to capture the attention of a larger audience, while low-popularity cuisines may benefit from niche marketing efforts aimed at specific customer segments. By aligning our marketing initiatives with the popularity of each cuisine type, we can enhance customer engagement, improve conversion rates, and ultimately drive business growth.\n",
    "\n",
    "## 3. Age Segmentation\n",
    "    [15-23; 24-26; 27-31; 32-80]\n",
    "Age segmentation based on the provided key statistics summary reveals valuable insights into our customer demographics. With a minimum age of 15 years and a maximum of 80 years, our dataset captures a wide range of customers, highlighting diverse preferences and behaviors across different age groups.\n",
    "    The quartile statistics further illustrate this diversity: 25% of our customers are 23 years or younger, indicating a substantial segment of younger consumers who may have distinct tastes and purchasing patterns. The median age of 26 years suggests that half of our customer base is relatively young, while the upper quartile at 31 years indicates a growing segment of slightly older customers. This age distribution underscores the importance of tailoring marketing strategies to resonate with varying age groups. \n",
    "    For example, younger consumers may be more influenced by trends and social media, while older customers might prioritize quality and brand reputation. By segmenting our marketing efforts according to these age demographics, we can create targeted campaigns that effectively address the unique preferences and needs of each age group, ultimately enhancing customer engagement and driving sales growth.\n",
    "\n",
    "## 4. Peak Hours\n",
    "    [morning_peak; afternoon_peak] \n",
    "By analyzing daily activity patterns, we observe that the majority of orders occur between 9 AM and 7 PM, identifying these as peak hours. This timeframe can be further divided into two segments: the morning peak (9 AM to 1 PM) and the afternoon peak (2 PM to 7 PM). Understanding customer preferences and behaviors during these distinct periods allows us to tailor our logistical and marketing strategies to better meet the demands of different cities throughout the day. This proactive approach enables us to optimize resource allocation, enhance customer satisfaction, and adapt our offerings to align with customer tendencies during peak ordering times.\n",
    "\n",
    "## 5. Average Revenue per Order\n",
    "    Total Revenue (Cuisine) / Total Orders (Cuisine)\n",
    "Understanding how much revenue is generated per order can shed light on customer preferences and spending habits, allowing for targeted promotions and upselling opportunities. Also, it helps assess the profitability of each cuisine. A higher average revenue per order indicates that customers are willing to spend more on certain cuisines.\n",
    "\n",
    "## 6. Customers Ordering Level\n",
    "    [frequent_customers; moderate_customers, infrequent_customers]\n",
    "Setting thresholds for order frequency enables effective segmentation of customer behavior into Low, Medium, and High ordering levels. This approach identifies frequent customers, allowing us to implement targeted marketing strategies to drive retention and loyalty among high-value segments."
   ]
  },
  {
   "cell_type": "markdown",
   "metadata": {},
   "source": [
    "# 9. Data Visualization"
   ]
  },
  {
   "cell_type": "markdown",
   "metadata": {},
   "source": [
    "## Histograms of Customer Age and Vendor Count"
   ]
  },
  {
   "cell_type": "markdown",
   "metadata": {},
   "source": [
    "### Summary:\n",
    "- Purpose: The histograms visualize the distribution of customer ages and the count of vendors, providing insight into the demographics of customers and vendor usage patterns.\n",
    "- Choice of Chart: A histogram is suitable for displaying the frequency distribution of numeric data, allowing us to see the range, spread, and any potential peaks in the data for both customer_age and vendor_count.\n",
    "- Findings: Key observations will depend on the data shape; for example, the age distribution might reveal customer age trends, and vendor count could indicate the typical range or average for vendor interaction per customer."
   ]
  },
  {
   "cell_type": "code",
   "execution_count": null,
   "metadata": {},
   "outputs": [],
   "source": [
    "# Settings for subplots: number of rows and columns for the two features\n",
    "sp_rows = 1\n",
    "sp_cols = 2\n",
    "\n",
    "# Prepare figure and create individual axes for each histogram\n",
    "fig, axes = plt.subplots(sp_rows, sp_cols, figsize=(20, 11))\n",
    "\n",
    "# Plot data for 'customer_age' and 'vendor_count'\n",
    "# Iterate over each axis and feature to plot histograms\n",
    "for ax, feature in zip(axes.flatten(), ['customer_age', 'vendor_count']):\n",
    "    # Plot histogram in shades of grey for each feature\n",
    "    ax.hist(df[feature].dropna(), bins=20, color='grey', edgecolor='black')\n",
    "    ax.set_title(f'Distribution of {feature.capitalize().replace(\"_\", \" \")}', fontsize=14, y=-0.2)\n",
    "    ax.set_xlabel(feature.capitalize().replace(\"_\", \" \"))\n",
    "    ax.set_ylabel(\"Frequency\")\n",
    "\n",
    "# Main title for the figure\n",
    "plt.suptitle(\"Histograms of Customer Age and Vendor Count\", fontsize=18, y=1.02)\n",
    "\n",
    "# Ensure the directory exists for saving the figure\n",
    "save_dir = os.path.join('..', 'figures', 'eda')\n",
    "if not os.path.exists(save_dir):\n",
    "    os.makedirs(save_dir)\n",
    "\n",
    "# Save the figure as a high-quality PNG\n",
    "plt.savefig(os.path.join(save_dir, 'customer_age_vendor_count_histograms.png'), dpi=200, bbox_inches='tight')\n",
    "\n",
    "# Display the plot\n",
    "plt.show()"
   ]
  },
  {
   "cell_type": "markdown",
   "metadata": {},
   "source": [
    "## Histograms of First and Last Order Dates"
   ]
  },
  {
   "cell_type": "markdown",
   "metadata": {},
   "source": [
    "### Summary:\n",
    "- Purpose: The histograms of first_order and last_order illustrate the distribution of customer order initiation and most recent orders, providing insights into how customer activity may vary over time.\n",
    "- Choice of Chart: A histogram helps to visualize the frequency and spread of these dates, which is essential for observing order patterns, such as seasonality or customer retention.\n",
    "- Findings: The peaks indicate popular order periods or gaps suggesting low activity. Observing distributions of both features side-by-side allows comparison and can highlight any shifts in ordering trends over time."
   ]
  },
  {
   "cell_type": "code",
   "execution_count": null,
   "metadata": {},
   "outputs": [],
   "source": [
    "# Settings for subplots: Define rows and columns (if planning to add more histograms, this setting can be adjusted)\n",
    "fig, axes = plt.subplots(1, 2, figsize=(20, 11))  # 1 row, 2 columns for two variables\n",
    "\n",
    "# Plot histograms for 'first_order' and 'last_order'\n",
    "for ax, feature in zip(axes.flatten(), ['first_order', 'last_order']):\n",
    "    # Plot histogram with a grey color for both features\n",
    "    ax.hist(df[feature].dropna(), bins=20, color='#9391A0', edgecolor='black')\n",
    "    ax.set_title(f'Distribution of {feature.capitalize().replace(\"_\", \" \")}', fontsize=14, y=-0.15)\n",
    "    ax.set_xlabel(feature.capitalize().replace(\"_\", \" \"))\n",
    "    ax.set_ylabel(\"Frequency\")\n",
    "\n",
    "# Main title for the figure, reflecting the context of the chart\n",
    "plt.suptitle(\"Histograms of First and Last Order Dates\", fontsize=18, y=1.02)\n",
    "\n",
    "# Ensure the directory exists for saving the figure\n",
    "save_dir = os.path.join('..', 'figures', 'eda')\n",
    "if not os.path.exists(save_dir):\n",
    "    os.makedirs(save_dir)\n",
    "\n",
    "# Save the figure as a high-quality PNG file\n",
    "plt.savefig(os.path.join(save_dir, 'first_last_order_histograms.png'), dpi=200, bbox_inches='tight')\n",
    "\n",
    "# Display the plot\n",
    "plt.show()"
   ]
  },
  {
   "cell_type": "markdown",
   "metadata": {},
   "source": [
    "## Bar Chart of Total Orders Per Hour"
   ]
  },
  {
   "cell_type": "code",
   "execution_count": null,
   "metadata": {},
   "outputs": [],
   "source": [
    "# Step 1: Selecting columns related to each hour (HR_0 to HR_23)\n",
    "hour_columns = [f'HR_{i}' for i in range(24)]\n",
    "\n",
    "# Step 2: Calculating total orders for each hour by summing across all rows for each hour column\n",
    "total_orders_per_hour = df[hour_columns].sum()\n",
    "\n",
    "# Step 3: Creating a bar plot to visualize total orders per hour in shades of grey\n",
    "plt.figure(figsize=(10, 6))\n",
    "total_orders_per_hour.plot(kind='bar', color=\"#9391A0\", edgecolor='black')\n",
    "plt.title('Total Orders Per Hour')  # Title describing the context of the chart\n",
    "plt.xlabel('Hour')\n",
    "plt.ylabel('Number of Orders')\n",
    "plt.show()"
   ]
  },
  {
   "cell_type": "markdown",
   "metadata": {},
   "source": [
    "## Bar Chart of Peak Hour Activity for Food Orders (HR_9 to HR_19)"
   ]
  },
  {
   "cell_type": "markdown",
   "metadata": {},
   "source": [
    "### Summary:\n",
    "- Purpose: This chart highlights food ordering activity during typical peak hours (HR_9 to HR_19), which can help in resource planning during these busy times.\n",
    "- Choice of Chart: A bar chart is chosen for clear visualization of each hour’s activity, allowing easy identification of high-ordering periods within the specified range.\n",
    "- Findings: Observing the chart may reveal distinct peaks within the specified hours, potentially around lunch and dinner times, which could indicate increased demand during these periods."
   ]
  },
  {
   "cell_type": "code",
   "execution_count": null,
   "metadata": {},
   "outputs": [],
   "source": [
    "# Step 1: Select hour columns for the peak activity range (HR_9 to HR_19)\n",
    "filtered_hr_columns = [f'HR_{i}' for i in range(9, 20)]\n",
    "\n",
    "# Step 2: Calculate total orders during peak hours by summing across all rows for each hour column in the specified range\n",
    "filtered_hour_activity = df[filtered_hr_columns].sum()\n",
    "\n",
    "# Step 3: Plotting peak hour activity in a bar chart\n",
    "plt.figure(figsize=(10, 6))\n",
    "plt.bar(filtered_hour_activity.index, filtered_hour_activity.values, color=\"#9391A0\", edgecolor='black')\n",
    "plt.title('Peak Hour Activity for Food Orders (HR_9 to HR_19)')  # Title for context\n",
    "plt.xlabel('Hour of the Day (HR_9 to HR_19)')\n",
    "plt.ylabel('Total Activity (Number of Orders)')\n",
    "plt.xticks(rotation=45)  # Rotate x-tick labels for readability\n",
    "plt.tight_layout()  # Adjust layout for clarity\n",
    "plt.show()"
   ]
  },
  {
   "cell_type": "markdown",
   "metadata": {},
   "source": [
    "## Bar Chart of Total Orders Per Day of the Week"
   ]
  },
  {
   "cell_type": "markdown",
   "metadata": {},
   "source": [
    "### Summary:\n",
    "- Purpose: This chart visualizes the distribution of orders across the days of the week, providing insights into which days see higher customer activity.\n",
    "- Choice of Chart: A bar chart effectively represents the total orders for each day of the week, making it easy to observe daily trends and identify peak ordering days.\n",
    "- Findings: Analysis may reveal certain days with higher ordering volumes (e.g., weekends), which can help in planning staffing and inventory to accommodate demand fluctuations."
   ]
  },
  {
   "cell_type": "code",
   "execution_count": null,
   "metadata": {},
   "outputs": [],
   "source": [
    "# Step 1: Selecting columns for days of the week (DOW_0 to DOW_6)\n",
    "dow_columns = [f'DOW_{i}' for i in range(7)]\n",
    "\n",
    "# Step 2: Calculating total orders for each day of the week by summing across all rows for each day column\n",
    "total_orders_per_dow = df[dow_columns].sum()\n",
    "\n",
    "# Step 3: Creating a bar chart to visualize total orders per day of the week in grey scale\n",
    "plt.figure(figsize=(10, 6))\n",
    "total_orders_per_dow.plot(kind='bar', color=\"#9391A0\", edgecolor='black')\n",
    "plt.title('Total Orders Per Day of the Week', fontsize=16)  # Title for context\n",
    "plt.xlabel('Day of the Week', fontsize=12)\n",
    "plt.ylabel('Number of Orders', fontsize=12)\n",
    "plt.xticks(rotation=45, ha='right')  # Rotate x-tick labels for readability\n",
    "plt.tight_layout()  # Adjust layout for clarity\n",
    "plt.show()"
   ]
  },
  {
   "cell_type": "markdown",
   "metadata": {},
   "source": [
    "## Bar chart of Total Orders Per Cuisine"
   ]
  },
  {
   "cell_type": "markdown",
   "metadata": {},
   "source": [
    "### Summary:\n",
    "- This chart visualizes the total number of orders by cuisine type.\n",
    "- We chose a bar chart style because it effectively compares discrete categories (cuisines) visually.\n",
    "- From the chart, we can observe which cuisines have the highest and lowest total orders, aiding in understanding customer preferences."
   ]
  },
  {
   "cell_type": "code",
   "execution_count": null,
   "metadata": {},
   "outputs": [],
   "source": [
    "# Step 1: Selecting columns related to cuisines (CUI_American, CUI_Asian, etc.)\n",
    "cuisine_columns = [col for col in df.columns if 'CUI_' in col]\n",
    "\n",
    "# Step 2: Summing total number of orders per cuisine\n",
    "df['total_orders_per_cuisine'] = df[cuisine_columns].sum(axis=1)\n",
    "\n",
    "# Step 3: Creating a bar chart to visualize total orders per cuisine in grey scale\n",
    "plt.figure(figsize=(12, 6))\n",
    "df[cuisine_columns].sum().plot(kind='bar', color=\"#9391A0\", edgecolor='black')\n",
    "plt.title('Total Orders Per Cuisine', fontsize=16)  # Title for context\n",
    "plt.xlabel('Cuisine Type', fontsize=12)\n",
    "plt.ylabel('Number of Orders', fontsize=12)\n",
    "plt.xticks(rotation=45, ha='right')  # Rotate x-tick labels for readability\n",
    "plt.tight_layout()  # Adjust layout for clarity\n",
    "plt.show()"
   ]
  },
  {
   "cell_type": "markdown",
   "metadata": {},
   "source": [
    "## Bar Chart of Cuisine Popularity Based on Total Orders"
   ]
  },
  {
   "cell_type": "markdown",
   "metadata": {},
   "source": [
    "### Summary:\n",
    "- This bar chart visualizes the popularity of various cuisines based on total orders.\n",
    "- We chose a bar chart because it allows for easy comparison of total orders across different cuisines.\n",
    "- The colors indicate popularity levels: light grey for low, medium grey for medium, and dark grey for high popularity.\n",
    "- This visualization helps identify which cuisines are performing well and which may need more marketing efforts or menu adjustments."
   ]
  },
  {
   "cell_type": "code",
   "execution_count": null,
   "metadata": {},
   "outputs": [],
   "source": [
    "# Step 1: Define popularity ranking thresholds\n",
    "low_threshold = 50000\n",
    "high_threshold = 150000\n",
    "\n",
    "# Step 2: Calculate total orders for each cuisine\n",
    "cuisine_columns = [col for col in df.columns if 'CUI_' in col]\n",
    "cuisine_totals = df[cuisine_columns].sum()\n",
    "\n",
    "# Step 3: Assign colors based on popularity\n",
    "colors = []\n",
    "for total in cuisine_totals:\n",
    "    if total < low_threshold:\n",
    "        colors.append('#BDBDC1')  # Light grey for low popularity\n",
    "    elif low_threshold <= total < high_threshold:\n",
    "        colors.append('#5E5D66')  # Medium grey for medium popularity\n",
    "    else:\n",
    "        colors.append('#26262A')  # Dark grey for high popularity\n",
    "\n",
    "# Step 4: Plot the bar chart with assigned colors\n",
    "plt.figure(figsize=(10, 6))\n",
    "plt.bar(cuisine_totals.index, cuisine_totals.values, color=colors)\n",
    "\n",
    "# Step 5: Add labels and title\n",
    "plt.title('Cuisine Popularity Based on Total Orders', fontsize=16)  # Title for context\n",
    "plt.xlabel('Cuisine Type', fontsize=12)\n",
    "plt.ylabel('Total Orders', fontsize=12)\n",
    "plt.xticks(rotation=45, ha='right')  # Rotate x-tick labels for readability\n",
    "plt.tight_layout()  # Adjust layout for clarity\n",
    "\n",
    "# Step 6: Create a legend to explain color coding\n",
    "low_patch = mpatches.Patch(color='#BDBDC1', label='Low Popularity (< 50,000)')\n",
    "medium_patch = mpatches.Patch(color='#5E5D66', label='Medium Popularity (50,000 - 150,000)')\n",
    "high_patch = mpatches.Patch(color='#26262A', label='High Popularity (> 150,000)')\n",
    "\n",
    "plt.legend(handles=[low_patch, medium_patch, high_patch], title='Popularity')\n",
    "\n",
    "# Show the plot\n",
    "plt.show()\n"
   ]
  },
  {
   "cell_type": "markdown",
   "metadata": {},
   "source": [
    "## Bar Chart of Top 3 Cuisines During Peak Hours"
   ]
  },
  {
   "cell_type": "markdown",
   "metadata": {},
   "source": [
    "### Summary:\n",
    "- This stacked bar chart illustrates the total orders of the top 3 cuisines during peak hours (9 AM to 7 PM).\n",
    "- A stacked bar chart was chosen to show how each cuisine contributes to total orders over the specified hours.\n",
    "- The use of shades of grey helps differentiate the cuisines while maintaining a consistent visual theme.\n",
    "- From this visualization, we can analyze which cuisines dominate during peak hours and how their order volumes compare."
   ]
  },
  {
   "cell_type": "code",
   "execution_count": null,
   "metadata": {},
   "outputs": [],
   "source": [
    "# Step 1: Define popularity thresholds\n",
    "low_threshold = 50000\n",
    "high_threshold = 150000\n",
    "\n",
    "# Step 2: Define the adjusted peak hours\n",
    "hour_columns = [f'HR_{i}' for i in range(24)]  # From HR_0 to HR_23\n",
    "filtered_hr_columns = hour_columns[9:20]  # Adjusted to select hours from 9 to 19\n",
    "\n",
    "# Step 3: Sort cuisines by total orders and select the top 3 most popular cuisines\n",
    "top_cuisines = cuisine_totals.sort_values(ascending=False).head(3).index\n",
    "\n",
    "# Step 4: Filter the dataset to include only the top 3 cuisines\n",
    "filtered_cuisine_columns = top_cuisines\n",
    "\n",
    "# Step 5: Initialize a DataFrame to store total cuisine orders per hour (for top 3 cuisines)\n",
    "top_cuisine_hour_data = pd.DataFrame(index=filtered_hr_columns, columns=filtered_cuisine_columns)\n",
    "\n",
    "# Step 6: Calculate the total orders for each of the top 3 cuisines in each hour (HR_9 to HR_19)\n",
    "for hour in filtered_hr_columns:\n",
    "    for cuisine in filtered_cuisine_columns:\n",
    "        top_cuisine_hour_data.loc[hour, cuisine] = (df[hour] * df[cuisine]).sum()\n",
    "\n",
    "# Step 7: Convert the values to numeric\n",
    "top_cuisine_hour_data = top_cuisine_hour_data.apply(pd.to_numeric)\n",
    "\n",
    "# Step 8: Define colors for the top 3 cuisines (shades of grey)\n",
    "colors = ['#BDBDC1', '#5E5D66', '#26262A']  # Light grey, medium grey, dark grey\n",
    "\n",
    "# Step 9: Plot a stacked bar chart for the top 3 cuisines\n",
    "plt.figure(figsize=(10, 6))\n",
    "\n",
    "# Step 10: Create the stacked bars for each cuisine\n",
    "bottom_values = np.zeros(len(filtered_hr_columns))  # Keeps track of the bottom of the stack\n",
    "for i, cuisine in enumerate(filtered_cuisine_columns):\n",
    "    plt.bar(filtered_hr_columns, top_cuisine_hour_data[cuisine], bottom=bottom_values, label=cuisine, color=colors[i])\n",
    "    bottom_values += top_cuisine_hour_data[cuisine]  # Update the bottom to stack the next bar\n",
    "\n",
    "# Step 11: Add labels and title\n",
    "plt.title('Top 3 Cuisines During Peak Hours', fontsize=16)  # Title for context\n",
    "plt.xlabel('Hours', fontsize=12)\n",
    "plt.ylabel('Total Orders', fontsize=12)\n",
    "plt.legend(title='Cuisines', bbox_to_anchor=(1, 1))  # Legend for clarity\n",
    "plt.xticks(rotation=45, ha='right')  # Rotate x-tick labels for readability\n",
    "plt.tight_layout()  # Adjust layout for clarity\n",
    "plt.show()"
   ]
  },
  {
   "cell_type": "markdown",
   "metadata": {},
   "source": [
    "## Bar charts of Low and Medium Popular Cuisines Orders during All Hours"
   ]
  },
  {
   "cell_type": "markdown",
   "metadata": {},
   "source": [
    "### Summary:\n",
    "- This stacked bar chart displays the total orders of low and medium popular cuisines throughout all hours of the day.\n",
    "- A stacked bar chart was chosen to effectively show how each cuisine contributes to total orders across the hours.\n",
    "- The use of grey scale ensures clarity while maintaining a professional appearance.\n",
    "- This visualization helps identify trends in customer preferences for less popular cuisines across different times of the day."
   ]
  },
  {
   "cell_type": "code",
   "execution_count": null,
   "metadata": {},
   "outputs": [],
   "source": [
    "# Define the adjusted peak hours\n",
    "hour_columns = [f'HR_{i}' for i in range(24)]\n",
    "\n",
    "# Define popularity thresholds\n",
    "low_threshold = 50000\n",
    "medium_threshold = 150000\n",
    "\n",
    "# Filter cuisines based on their order counts\n",
    "low_popular_cuisines = cuisine_totals[cuisine_totals < low_threshold].index\n",
    "medium_popular_cuisines = cuisine_totals[(cuisine_totals >= low_threshold) & (cuisine_totals < medium_threshold)].index\n",
    "\n",
    "# Combine low and medium popular cuisines\n",
    "filtered_cuisine_columns = low_popular_cuisines.append(medium_popular_cuisines)\n",
    "\n",
    "# Initialize a DataFrame to store the total cuisine orders per hour (for low and medium cuisines)\n",
    "cuisine_hour_data = pd.DataFrame(index=hour_columns, columns=filtered_cuisine_columns)\n",
    "\n",
    "# Calculate the total orders for each cuisine in each hour (HR_9 to HR_19)\n",
    "for hour in hour_columns:\n",
    "    for cuisine in filtered_cuisine_columns:\n",
    "        cuisine_hour_data.loc[hour, cuisine] = (df[hour] * df[cuisine]).sum()\n",
    "\n",
    "# Convert the values to numeric\n",
    "cuisine_hour_data = cuisine_hour_data.apply(pd.to_numeric)\n",
    "\n",
    "# Define a distinct color palette for the cuisines\n",
    "colors = ['#280137', '#0071bc', '#88CCEE', '#44AA99', '#117733', '#999933', '#DDCC77', '#FC4C4E',\n",
    "          '#CC6677', '#882255', '#AA4499', '#DDDDDD', '#ACADA8']  # Add more colors as needed\n",
    "\n",
    "# If you have more cuisines than colors, you may need to repeat or extend the colors list\n",
    "if len(filtered_cuisine_columns) > len(colors):\n",
    "    colors = colors * (len(filtered_cuisine_columns) // len(colors) + 1)\n",
    "\n",
    "# Plot a stacked bar chart for the low and medium popular cuisines\n",
    "plt.figure(figsize=(10, 6))\n",
    "\n",
    "# Create the stacked bars for each cuisine\n",
    "bottom_values = np.zeros(len(hour_columns))  # Keeps track of the bottom of the stack\n",
    "for i, cuisine in enumerate(filtered_cuisine_columns):\n",
    "    plt.bar(hour_columns, cuisine_hour_data[cuisine], bottom=bottom_values, label=cuisine, color=colors[i])\n",
    "    bottom_values += cuisine_hour_data[cuisine]  # Update the bottom to stack the next bar\n",
    "\n",
    "plt.title('Low and Medium Popular Cuisines Orders during All Hours', fontsize = 16)\n",
    "plt.xlabel('Hours', fontsize = 12)\n",
    "plt.ylabel('Total Orders', fontsize = 12)\n",
    "plt.legend(title='Cuisines', bbox_to_anchor=(1.05, 1), loc='upper left')\n",
    "plt.xticks(rotation=45, ha='right')\n",
    "plt.tight_layout()\n",
    "plt.show()"
   ]
  },
  {
   "cell_type": "markdown",
   "metadata": {},
   "source": [
    "## Bar Chart of Average Purchases per Order by Cuisine"
   ]
  },
  {
   "cell_type": "markdown",
   "metadata": {},
   "source": [
    "### Summary:\n",
    "- This bar chart illustrates the average purchases made per order for each cuisine type.\n",
    "- The average purchases are calculated by multiplying the number of orders by the total revenue generated.\n",
    "- for each cuisine, which allows for understanding which cuisines are generating higher revenue per order.\n",
    "- The grey color maintains a professional appearance while focusing on the data presented."
   ]
  },
  {
   "cell_type": "code",
   "execution_count": null,
   "metadata": {},
   "outputs": [],
   "source": [
    "# Step 1: Check if 'total_revenue' exists; if not, create it by summing across cuisine columns\n",
    "if 'total_revenue' not in df.columns:\n",
    "    df['total_revenue'] = df[cuisine_columns].sum(axis=1)  # Calculate total revenue for each row\n",
    "\n",
    "# Step 2: Calculate Avg_Purchases for each cuisine\n",
    "# Multiply the number of purchases by total revenue, then sum and divide by total purchases for each cuisine\n",
    "avg_purchases = (df[cuisine_columns].multiply(df['total_revenue'], axis=0)).sum() / df[cuisine_columns].sum()\n",
    "\n",
    "# Step 3: Plot Avg_Purchases as a bar chart\n",
    "plt.figure(figsize=(10, 6))  # Set the figure size\n",
    "plt.bar(cuisine_columns, avg_purchases, color=\"#9391A0\")  # Use a grey color for the bars\n",
    "\n",
    "# Step 4: Set titles and labels for the chart\n",
    "plt.title('Average Purchases per Order by Cuisine', fontsize=16)  # Title for context\n",
    "plt.xlabel('Cuisine', fontsize=12)  # X-axis label\n",
    "plt.ylabel('Avg Purchases ($)', fontsize=12)  # Y-axis label\n",
    "plt.xticks(rotation=45, ha='right')  # Rotate x-tick labels for better readability\n",
    "plt.tight_layout()  # Adjust layout for clarity\n",
    "plt.show()  # Display the plot\n"
   ]
  },
  {
   "cell_type": "markdown",
   "metadata": {},
   "source": [
    "## Scatter plots"
   ]
  },
  {
   "cell_type": "markdown",
   "metadata": {},
   "source": [
    "### Summary for Customer Age vs Product Count:\n",
    "- This scatter plot examines the relationship between customer age and product count.\n",
    "- It helps to identify any trends or patterns in product purchases across different age groups.\n",
    "\n",
    "### Summary for Customer Age vs Vendor Count:\n",
    "- This scatter plot illustrates the relationship between customer age and vendor count.\n",
    "- It provides insights into how vendor interaction varies with the age of customers.\n",
    "\n",
    "### Summary for Customer Age vs CUI_Asian Orders:\n",
    "- This scatter plot evaluates the orders of Asian cuisine against customer age.\n",
    "- It allows us to assess if certain age groups prefer Asian cuisine over others.\n",
    "\n",
    "### Summary for Customer Age vs CUI_American Orders:\n",
    "- This scatter plot investigates the relationship between customer age and American cuisine orders.\n",
    "- It helps in identifying which age demographics are more likely to order American cuisine.\n",
    "\n",
    "### Summary for Customer Age vs CUI_Street Food / Snacks Orders:\n",
    "- This scatter plot analyzes the correlation between customer age and orders of street food/snacks.\n",
    "- It sheds light on whether younger or older customers prefer street food options."
   ]
  },
  {
   "cell_type": "code",
   "execution_count": null,
   "metadata": {},
   "outputs": [],
   "source": [
    "# Scatter plot: Customer Age vs Product Count\n",
    "plt.figure(figsize=(8, 6))  # Set the figure size for the plot\n",
    "sns.scatterplot(data=df, x='customer_age', y='product_count', color=\"#131316\")  # Create a scatter plot\n",
    "plt.title('Customer Age vs Product Count', fontsize=16)  # Title for context\n",
    "plt.xlabel('Customer Age', fontsize=12)  # X-axis label\n",
    "plt.ylabel('Product Count', fontsize=12)  # Y-axis label\n",
    "plt.show()  # Display the plot\n",
    "\n",
    "# Scatter plot: Customer Age vs Vendor Count\n",
    "plt.figure(figsize=(8, 6))  # Set the figure size for the plot\n",
    "sns.scatterplot(data=df, x='customer_age', y='vendor_count', color=\"#131316\")  # Create a scatter plot\n",
    "plt.title('Customer Age vs Vendor Count', fontsize=16)  # Title for context\n",
    "plt.xlabel('Customer Age', fontsize=12)  # X-axis label\n",
    "plt.ylabel('Vendor Count', fontsize=12)  # Y-axis label\n",
    "plt.show()  # Display the plot\n",
    "\n",
    "# Box plot: Customer Age vs Popular Cuisines (Low, Medium, High)\n",
    "# Filter data for non-zero CUI_Asian counts\n",
    "df_cui_asian = df[df['CUI_Asian'] > 0]  # Dataframe for Asian cuisine\n",
    "df_cui_american = df[df['CUI_American'] > 0]  # Dataframe for American cuisine\n",
    "df_cui_street = df[df['CUI_Street Food / Snacks'] > 0]  # Dataframe for Street Food cuisine\n",
    "\n",
    "# Scatter plot of customer_age vs CUI_Asian\n",
    "plt.figure(figsize=(10, 6))  # Set the figure size for the plot\n",
    "sns.scatterplot(data=df_cui_asian, x='customer_age', y='CUI_Asian', color=\"#131316\")  # Create a scatter plot\n",
    "plt.title('Customer Age vs CUI_Asian Orders', fontsize=16)  # Title for context\n",
    "plt.xlabel('Customer Age', fontsize=12)  # X-axis label\n",
    "plt.ylabel('CUI_Asian Order Count', fontsize=12)  # Y-axis label\n",
    "plt.show()  # Display the plot\n",
    "\n",
    "# Scatter plot of customer_age vs CUI_American\n",
    "plt.figure(figsize=(10, 6))  # Set the figure size for the plot\n",
    "sns.scatterplot(data=df_cui_american, x='customer_age', y='CUI_American', color=\"#131316\")  # Create a scatter plot\n",
    "plt.title('Customer Age vs CUI_American', fontsize=16)  # Title for context\n",
    "plt.xlabel('Customer Age', fontsize=12)  # X-axis label\n",
    "plt.ylabel('CUI_American Order Count', fontsize=12)  # Y-axis label\n",
    "plt.show()  # Display the plot\n",
    "\n",
    "# Scatter plot of customer_age vs CUI_Street Food / Snacks\n",
    "plt.figure(figsize=(10, 6))  # Set the figure size for the plot\n",
    "sns.scatterplot(data=df_cui_street, x='customer_age', y='CUI_Street Food / Snacks', color=\"#131316\")  # Create a scatter plot\n",
    "plt.title('Customer Age vs CUI_Street Food / Snacks', fontsize=16)  # Title for context\n",
    "plt.xlabel('Customer Age', fontsize=12)  # X-axis label\n",
    "plt.ylabel('CUI_Street Food / Snacks Order Count', fontsize=12)  # Y-axis label\n",
    "plt.show()  # Display the plot"
   ]
  },
  {
   "cell_type": "markdown",
   "metadata": {},
   "source": [
    "## Bar Chart of Total Orders from All Cuisines by Customer Age"
   ]
  },
  {
   "cell_type": "markdown",
   "metadata": {},
   "source": [
    "### Summary for Total Orders by Customer Age:\n",
    "- This bar chart illustrates the total orders across all cuisines, segmented by customer age.\n",
    "- It enables the identification of age demographics that contribute most to overall cuisine orders, highlighting customer preferences."
   ]
  },
  {
   "cell_type": "code",
   "execution_count": null,
   "metadata": {},
   "outputs": [],
   "source": [
    "# List of all cuisine columns, including the combined CUI_OTHER\n",
    "cuisine_columns = [col for col in df.columns if 'CUI_' in col]  # Replace with actual cuisine column names\n",
    "\n",
    "# Calculate total orders by summing across all cuisine columns\n",
    "df['total_orders'] = df[cuisine_columns].sum(axis=1)\n",
    "\n",
    "# Group by customer age and sum total orders for each age group\n",
    "orders_by_age = df.groupby('customer_age')['total_orders'].sum()\n",
    "\n",
    "# Plotting the total orders by customer age as a bar chart\n",
    "plt.figure(figsize=(12, 8))  # Set the figure size for better visibility\n",
    "plt.bar(orders_by_age.index, orders_by_age.values, color='#9391A0', edgecolor = 'black')  # Use the specified color for the bars\n",
    "plt.title(\"Total Orders from All Cuisines by Customer Age\", fontsize=16)  # Title for context\n",
    "plt.xlabel(\"Customer Age\", fontsize=12)  # X-axis label\n",
    "plt.ylabel(\"Total Orders\", fontsize=12)  # Y-axis label\n",
    "age_range = range(int(orders_by_age.index.min()), int(orders_by_age.index.max()) + 1, 2)  # Create a range for x-ticks\n",
    "plt.xticks(age_range, rotation=45)  # Rotate x-ticks for readability\n",
    "plt.tight_layout()  # Adjust layout for better presentation\n",
    "plt.show()  # Display the plot"
   ]
  },
  {
   "cell_type": "code",
   "execution_count": null,
   "metadata": {},
   "outputs": [],
   "source": []
  }
 ],
 "metadata": {
  "kernelspec": {
   "display_name": "Python 3 (ipykernel)",
   "language": "python",
   "name": "python3"
  },
  "language_info": {
   "codemirror_mode": {
    "name": "ipython",
    "version": 3
   },
   "file_extension": ".py",
   "mimetype": "text/x-python",
   "name": "python",
   "nbconvert_exporter": "python",
   "pygments_lexer": "ipython3",
   "version": "3.11.8"
  }
 },
 "nbformat": 4,
 "nbformat_minor": 4
}
